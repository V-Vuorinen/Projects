{
 "cells": [
  {
   "cell_type": "code",
   "execution_count": 1,
   "id": "c2bbb740",
   "metadata": {
    "_cell_guid": "b1076dfc-b9ad-4769-8c92-a6c4dae69d19",
    "_uuid": "8f2839f25d086af736a60e9eeb907d3b93b6e0e5",
    "execution": {
     "iopub.execute_input": "2023-12-29T16:40:38.795085Z",
     "iopub.status.busy": "2023-12-29T16:40:38.794303Z",
     "iopub.status.idle": "2023-12-29T16:40:40.876828Z",
     "shell.execute_reply": "2023-12-29T16:40:40.875568Z"
    },
    "papermill": {
     "duration": 2.114093,
     "end_time": "2023-12-29T16:40:40.880111",
     "exception": false,
     "start_time": "2023-12-29T16:40:38.766018",
     "status": "completed"
    },
    "tags": []
   },
   "outputs": [],
   "source": [
    "import pandas as pd\n",
    "import numpy as np\n",
    "import matplotlib.pylab as plt\n",
    "import seaborn as sns"
   ]
  },
  {
   "cell_type": "code",
   "execution_count": 2,
   "id": "a904b862",
   "metadata": {
    "execution": {
     "iopub.execute_input": "2023-12-29T16:40:40.932724Z",
     "iopub.status.busy": "2023-12-29T16:40:40.932022Z",
     "iopub.status.idle": "2023-12-29T16:40:41.799503Z",
     "shell.execute_reply": "2023-12-29T16:40:41.797625Z"
    },
    "papermill": {
     "duration": 0.898007,
     "end_time": "2023-12-29T16:40:41.803344",
     "exception": false,
     "start_time": "2023-12-29T16:40:40.905337",
     "status": "completed"
    },
    "tags": []
   },
   "outputs": [],
   "source": [
    "df = pd.read_csv('/kaggle/input/trends-product-coffee-shop-sales-revenue-dataset/coffee-shop-sales-revenue.csv', sep = '|')"
   ]
  },
  {
   "cell_type": "markdown",
   "id": "65aa37d3",
   "metadata": {
    "papermill": {
     "duration": 0.026467,
     "end_time": "2023-12-29T16:40:41.856352",
     "exception": false,
     "start_time": "2023-12-29T16:40:41.829885",
     "status": "completed"
    },
    "tags": []
   },
   "source": [
    "**Take a look at the file (column names and size of sheet). Check datatypes and basic metrics (df.describe) to get better understanding of the sheet.**"
   ]
  },
  {
   "cell_type": "code",
   "execution_count": 3,
   "id": "fb513510",
   "metadata": {
    "execution": {
     "iopub.execute_input": "2023-12-29T16:40:41.909622Z",
     "iopub.status.busy": "2023-12-29T16:40:41.909128Z",
     "iopub.status.idle": "2023-12-29T16:40:41.920747Z",
     "shell.execute_reply": "2023-12-29T16:40:41.919320Z"
    },
    "papermill": {
     "duration": 0.043015,
     "end_time": "2023-12-29T16:40:41.924881",
     "exception": false,
     "start_time": "2023-12-29T16:40:41.881866",
     "status": "completed"
    },
    "tags": []
   },
   "outputs": [
    {
     "data": {
      "text/plain": [
       "(149116, 11)"
      ]
     },
     "execution_count": 3,
     "metadata": {},
     "output_type": "execute_result"
    }
   ],
   "source": [
    "df.shape"
   ]
  },
  {
   "cell_type": "code",
   "execution_count": 4,
   "id": "2b2789f2",
   "metadata": {
    "execution": {
     "iopub.execute_input": "2023-12-29T16:40:41.981094Z",
     "iopub.status.busy": "2023-12-29T16:40:41.979855Z",
     "iopub.status.idle": "2023-12-29T16:40:42.016596Z",
     "shell.execute_reply": "2023-12-29T16:40:42.015221Z"
    },
    "papermill": {
     "duration": 0.068088,
     "end_time": "2023-12-29T16:40:42.019639",
     "exception": false,
     "start_time": "2023-12-29T16:40:41.951551",
     "status": "completed"
    },
    "tags": []
   },
   "outputs": [
    {
     "data": {
      "text/html": [
       "<div>\n",
       "<style scoped>\n",
       "    .dataframe tbody tr th:only-of-type {\n",
       "        vertical-align: middle;\n",
       "    }\n",
       "\n",
       "    .dataframe tbody tr th {\n",
       "        vertical-align: top;\n",
       "    }\n",
       "\n",
       "    .dataframe thead th {\n",
       "        text-align: right;\n",
       "    }\n",
       "</style>\n",
       "<table border=\"1\" class=\"dataframe\">\n",
       "  <thead>\n",
       "    <tr style=\"text-align: right;\">\n",
       "      <th></th>\n",
       "      <th>transaction_id</th>\n",
       "      <th>transaction_date</th>\n",
       "      <th>transaction_time</th>\n",
       "      <th>transaction_qty</th>\n",
       "      <th>store_id</th>\n",
       "      <th>store_location</th>\n",
       "      <th>product_id</th>\n",
       "      <th>unit_price</th>\n",
       "      <th>product_category</th>\n",
       "      <th>product_type</th>\n",
       "      <th>product_detail</th>\n",
       "    </tr>\n",
       "  </thead>\n",
       "  <tbody>\n",
       "    <tr>\n",
       "      <th>0</th>\n",
       "      <td>1</td>\n",
       "      <td>2023-01-01</td>\n",
       "      <td>07:06:11</td>\n",
       "      <td>2</td>\n",
       "      <td>5</td>\n",
       "      <td>Lower Manhattan</td>\n",
       "      <td>32</td>\n",
       "      <td>3.0</td>\n",
       "      <td>Coffee</td>\n",
       "      <td>Gourmet brewed coffee</td>\n",
       "      <td>Ethiopia Rg</td>\n",
       "    </tr>\n",
       "    <tr>\n",
       "      <th>1</th>\n",
       "      <td>2</td>\n",
       "      <td>2023-01-01</td>\n",
       "      <td>07:08:56</td>\n",
       "      <td>2</td>\n",
       "      <td>5</td>\n",
       "      <td>Lower Manhattan</td>\n",
       "      <td>57</td>\n",
       "      <td>3.1</td>\n",
       "      <td>Tea</td>\n",
       "      <td>Brewed Chai tea</td>\n",
       "      <td>Spicy Eye Opener Chai Lg</td>\n",
       "    </tr>\n",
       "    <tr>\n",
       "      <th>2</th>\n",
       "      <td>3</td>\n",
       "      <td>2023-01-01</td>\n",
       "      <td>07:14:04</td>\n",
       "      <td>2</td>\n",
       "      <td>5</td>\n",
       "      <td>Lower Manhattan</td>\n",
       "      <td>59</td>\n",
       "      <td>4.5</td>\n",
       "      <td>Drinking Chocolate</td>\n",
       "      <td>Hot chocolate</td>\n",
       "      <td>Dark chocolate Lg</td>\n",
       "    </tr>\n",
       "    <tr>\n",
       "      <th>3</th>\n",
       "      <td>4</td>\n",
       "      <td>2023-01-01</td>\n",
       "      <td>07:20:24</td>\n",
       "      <td>1</td>\n",
       "      <td>5</td>\n",
       "      <td>Lower Manhattan</td>\n",
       "      <td>22</td>\n",
       "      <td>2.0</td>\n",
       "      <td>Coffee</td>\n",
       "      <td>Drip coffee</td>\n",
       "      <td>Our Old Time Diner Blend Sm</td>\n",
       "    </tr>\n",
       "    <tr>\n",
       "      <th>4</th>\n",
       "      <td>5</td>\n",
       "      <td>2023-01-01</td>\n",
       "      <td>07:22:41</td>\n",
       "      <td>2</td>\n",
       "      <td>5</td>\n",
       "      <td>Lower Manhattan</td>\n",
       "      <td>57</td>\n",
       "      <td>3.1</td>\n",
       "      <td>Tea</td>\n",
       "      <td>Brewed Chai tea</td>\n",
       "      <td>Spicy Eye Opener Chai Lg</td>\n",
       "    </tr>\n",
       "  </tbody>\n",
       "</table>\n",
       "</div>"
      ],
      "text/plain": [
       "   transaction_id transaction_date transaction_time  transaction_qty  \\\n",
       "0               1       2023-01-01         07:06:11                2   \n",
       "1               2       2023-01-01         07:08:56                2   \n",
       "2               3       2023-01-01         07:14:04                2   \n",
       "3               4       2023-01-01         07:20:24                1   \n",
       "4               5       2023-01-01         07:22:41                2   \n",
       "\n",
       "   store_id   store_location  product_id  unit_price    product_category  \\\n",
       "0         5  Lower Manhattan          32         3.0              Coffee   \n",
       "1         5  Lower Manhattan          57         3.1                 Tea   \n",
       "2         5  Lower Manhattan          59         4.5  Drinking Chocolate   \n",
       "3         5  Lower Manhattan          22         2.0              Coffee   \n",
       "4         5  Lower Manhattan          57         3.1                 Tea   \n",
       "\n",
       "            product_type               product_detail  \n",
       "0  Gourmet brewed coffee                  Ethiopia Rg  \n",
       "1        Brewed Chai tea     Spicy Eye Opener Chai Lg  \n",
       "2          Hot chocolate            Dark chocolate Lg  \n",
       "3            Drip coffee  Our Old Time Diner Blend Sm  \n",
       "4        Brewed Chai tea     Spicy Eye Opener Chai Lg  "
      ]
     },
     "execution_count": 4,
     "metadata": {},
     "output_type": "execute_result"
    }
   ],
   "source": [
    "df.head()"
   ]
  },
  {
   "cell_type": "code",
   "execution_count": 5,
   "id": "897b166d",
   "metadata": {
    "execution": {
     "iopub.execute_input": "2023-12-29T16:40:42.074496Z",
     "iopub.status.busy": "2023-12-29T16:40:42.073501Z",
     "iopub.status.idle": "2023-12-29T16:40:42.259003Z",
     "shell.execute_reply": "2023-12-29T16:40:42.257562Z"
    },
    "papermill": {
     "duration": 0.216419,
     "end_time": "2023-12-29T16:40:42.262392",
     "exception": false,
     "start_time": "2023-12-29T16:40:42.045973",
     "status": "completed"
    },
    "tags": []
   },
   "outputs": [
    {
     "data": {
      "text/html": [
       "<div>\n",
       "<style scoped>\n",
       "    .dataframe tbody tr th:only-of-type {\n",
       "        vertical-align: middle;\n",
       "    }\n",
       "\n",
       "    .dataframe tbody tr th {\n",
       "        vertical-align: top;\n",
       "    }\n",
       "\n",
       "    .dataframe thead th {\n",
       "        text-align: right;\n",
       "    }\n",
       "</style>\n",
       "<table border=\"1\" class=\"dataframe\">\n",
       "  <thead>\n",
       "    <tr style=\"text-align: right;\">\n",
       "      <th></th>\n",
       "      <th>transaction_id</th>\n",
       "      <th>transaction_qty</th>\n",
       "      <th>store_id</th>\n",
       "      <th>product_id</th>\n",
       "      <th>unit_price</th>\n",
       "    </tr>\n",
       "  </thead>\n",
       "  <tbody>\n",
       "    <tr>\n",
       "      <th>count</th>\n",
       "      <td>149116.000000</td>\n",
       "      <td>149116.000000</td>\n",
       "      <td>149116.000000</td>\n",
       "      <td>149116.000000</td>\n",
       "      <td>149116.000000</td>\n",
       "    </tr>\n",
       "    <tr>\n",
       "      <th>mean</th>\n",
       "      <td>74737.371872</td>\n",
       "      <td>1.438276</td>\n",
       "      <td>5.342063</td>\n",
       "      <td>47.918607</td>\n",
       "      <td>3.382219</td>\n",
       "    </tr>\n",
       "    <tr>\n",
       "      <th>std</th>\n",
       "      <td>43153.600016</td>\n",
       "      <td>0.542509</td>\n",
       "      <td>2.074241</td>\n",
       "      <td>17.930020</td>\n",
       "      <td>2.658723</td>\n",
       "    </tr>\n",
       "    <tr>\n",
       "      <th>min</th>\n",
       "      <td>1.000000</td>\n",
       "      <td>1.000000</td>\n",
       "      <td>3.000000</td>\n",
       "      <td>1.000000</td>\n",
       "      <td>0.800000</td>\n",
       "    </tr>\n",
       "    <tr>\n",
       "      <th>25%</th>\n",
       "      <td>37335.750000</td>\n",
       "      <td>1.000000</td>\n",
       "      <td>3.000000</td>\n",
       "      <td>33.000000</td>\n",
       "      <td>2.500000</td>\n",
       "    </tr>\n",
       "    <tr>\n",
       "      <th>50%</th>\n",
       "      <td>74727.500000</td>\n",
       "      <td>1.000000</td>\n",
       "      <td>5.000000</td>\n",
       "      <td>47.000000</td>\n",
       "      <td>3.000000</td>\n",
       "    </tr>\n",
       "    <tr>\n",
       "      <th>75%</th>\n",
       "      <td>112094.250000</td>\n",
       "      <td>2.000000</td>\n",
       "      <td>8.000000</td>\n",
       "      <td>60.000000</td>\n",
       "      <td>3.750000</td>\n",
       "    </tr>\n",
       "    <tr>\n",
       "      <th>max</th>\n",
       "      <td>149456.000000</td>\n",
       "      <td>8.000000</td>\n",
       "      <td>8.000000</td>\n",
       "      <td>87.000000</td>\n",
       "      <td>45.000000</td>\n",
       "    </tr>\n",
       "  </tbody>\n",
       "</table>\n",
       "</div>"
      ],
      "text/plain": [
       "       transaction_id  transaction_qty       store_id     product_id  \\\n",
       "count   149116.000000    149116.000000  149116.000000  149116.000000   \n",
       "mean     74737.371872         1.438276       5.342063      47.918607   \n",
       "std      43153.600016         0.542509       2.074241      17.930020   \n",
       "min          1.000000         1.000000       3.000000       1.000000   \n",
       "25%      37335.750000         1.000000       3.000000      33.000000   \n",
       "50%      74727.500000         1.000000       5.000000      47.000000   \n",
       "75%     112094.250000         2.000000       8.000000      60.000000   \n",
       "max     149456.000000         8.000000       8.000000      87.000000   \n",
       "\n",
       "          unit_price  \n",
       "count  149116.000000  \n",
       "mean        3.382219  \n",
       "std         2.658723  \n",
       "min         0.800000  \n",
       "25%         2.500000  \n",
       "50%         3.000000  \n",
       "75%         3.750000  \n",
       "max        45.000000  "
      ]
     },
     "execution_count": 5,
     "metadata": {},
     "output_type": "execute_result"
    }
   ],
   "source": [
    "df.describe()"
   ]
  },
  {
   "cell_type": "markdown",
   "id": "259c7ae7",
   "metadata": {
    "papermill": {
     "duration": 0.123281,
     "end_time": "2023-12-29T16:40:42.412621",
     "exception": false,
     "start_time": "2023-12-29T16:40:42.289340",
     "status": "completed"
    },
    "tags": []
   },
   "source": [
    "**We will take a look at the busiest hours in each location and try to understand trends within these hours.**"
   ]
  },
  {
   "cell_type": "code",
   "execution_count": 6,
   "id": "a997eb53",
   "metadata": {
    "execution": {
     "iopub.execute_input": "2023-12-29T16:40:42.468742Z",
     "iopub.status.busy": "2023-12-29T16:40:42.467255Z",
     "iopub.status.idle": "2023-12-29T16:40:42.476506Z",
     "shell.execute_reply": "2023-12-29T16:40:42.475432Z"
    },
    "papermill": {
     "duration": 0.039845,
     "end_time": "2023-12-29T16:40:42.478876",
     "exception": false,
     "start_time": "2023-12-29T16:40:42.439031",
     "status": "completed"
    },
    "tags": []
   },
   "outputs": [
    {
     "data": {
      "text/plain": [
       "Index(['transaction_id', 'transaction_date', 'transaction_time',\n",
       "       'transaction_qty', 'store_id', 'store_location', 'product_id',\n",
       "       'unit_price', 'product_category', 'product_type', 'product_detail'],\n",
       "      dtype='object')"
      ]
     },
     "execution_count": 6,
     "metadata": {},
     "output_type": "execute_result"
    }
   ],
   "source": [
    "df.columns"
   ]
  },
  {
   "cell_type": "markdown",
   "id": "82082d31",
   "metadata": {
    "papermill": {
     "duration": 0.029388,
     "end_time": "2023-12-29T16:40:42.537712",
     "exception": false,
     "start_time": "2023-12-29T16:40:42.508324",
     "status": "completed"
    },
    "tags": []
   },
   "source": [
    "**For this time we will keep all of the columns.**"
   ]
  },
  {
   "cell_type": "code",
   "execution_count": 7,
   "id": "bfe945ad",
   "metadata": {
    "execution": {
     "iopub.execute_input": "2023-12-29T16:40:42.593338Z",
     "iopub.status.busy": "2023-12-29T16:40:42.592794Z",
     "iopub.status.idle": "2023-12-29T16:40:42.698727Z",
     "shell.execute_reply": "2023-12-29T16:40:42.697046Z"
    },
    "papermill": {
     "duration": 0.137758,
     "end_time": "2023-12-29T16:40:42.702322",
     "exception": false,
     "start_time": "2023-12-29T16:40:42.564564",
     "status": "completed"
    },
    "tags": []
   },
   "outputs": [
    {
     "data": {
      "text/plain": [
       "transaction_id      0\n",
       "transaction_date    0\n",
       "transaction_time    0\n",
       "transaction_qty     0\n",
       "store_id            0\n",
       "store_location      0\n",
       "product_id          0\n",
       "unit_price          0\n",
       "product_category    0\n",
       "product_type        0\n",
       "product_detail      0\n",
       "dtype: int64"
      ]
     },
     "execution_count": 7,
     "metadata": {},
     "output_type": "execute_result"
    }
   ],
   "source": [
    "df.isna().sum()"
   ]
  },
  {
   "cell_type": "markdown",
   "id": "5d98c7d0",
   "metadata": {
    "papermill": {
     "duration": 0.026229,
     "end_time": "2023-12-29T16:40:42.755684",
     "exception": false,
     "start_time": "2023-12-29T16:40:42.729455",
     "status": "completed"
    },
    "tags": []
   },
   "source": [
    "**No empty rows visible.**"
   ]
  },
  {
   "cell_type": "code",
   "execution_count": 8,
   "id": "abf261e9",
   "metadata": {
    "execution": {
     "iopub.execute_input": "2023-12-29T16:40:42.814737Z",
     "iopub.status.busy": "2023-12-29T16:40:42.814236Z",
     "iopub.status.idle": "2023-12-29T16:40:42.980624Z",
     "shell.execute_reply": "2023-12-29T16:40:42.979255Z"
    },
    "papermill": {
     "duration": 0.2013,
     "end_time": "2023-12-29T16:40:42.983866",
     "exception": false,
     "start_time": "2023-12-29T16:40:42.782566",
     "status": "completed"
    },
    "tags": []
   },
   "outputs": [
    {
     "data": {
      "text/html": [
       "<div>\n",
       "<style scoped>\n",
       "    .dataframe tbody tr th:only-of-type {\n",
       "        vertical-align: middle;\n",
       "    }\n",
       "\n",
       "    .dataframe tbody tr th {\n",
       "        vertical-align: top;\n",
       "    }\n",
       "\n",
       "    .dataframe thead th {\n",
       "        text-align: right;\n",
       "    }\n",
       "</style>\n",
       "<table border=\"1\" class=\"dataframe\">\n",
       "  <thead>\n",
       "    <tr style=\"text-align: right;\">\n",
       "      <th></th>\n",
       "      <th>transaction_id</th>\n",
       "      <th>transaction_date</th>\n",
       "      <th>transaction_time</th>\n",
       "      <th>transaction_qty</th>\n",
       "      <th>store_id</th>\n",
       "      <th>store_location</th>\n",
       "      <th>product_id</th>\n",
       "      <th>unit_price</th>\n",
       "      <th>product_category</th>\n",
       "      <th>product_type</th>\n",
       "      <th>product_detail</th>\n",
       "    </tr>\n",
       "  </thead>\n",
       "  <tbody>\n",
       "  </tbody>\n",
       "</table>\n",
       "</div>"
      ],
      "text/plain": [
       "Empty DataFrame\n",
       "Columns: [transaction_id, transaction_date, transaction_time, transaction_qty, store_id, store_location, product_id, unit_price, product_category, product_type, product_detail]\n",
       "Index: []"
      ]
     },
     "execution_count": 8,
     "metadata": {},
     "output_type": "execute_result"
    }
   ],
   "source": [
    "df.loc[df.duplicated()]"
   ]
  },
  {
   "cell_type": "markdown",
   "id": "5fe49a68",
   "metadata": {
    "papermill": {
     "duration": 0.028432,
     "end_time": "2023-12-29T16:40:43.041527",
     "exception": false,
     "start_time": "2023-12-29T16:40:43.013095",
     "status": "completed"
    },
    "tags": []
   },
   "source": [
    "**No duplicate rows visible.**"
   ]
  },
  {
   "cell_type": "code",
   "execution_count": 9,
   "id": "cb2e68e8",
   "metadata": {
    "execution": {
     "iopub.execute_input": "2023-12-29T16:40:43.098724Z",
     "iopub.status.busy": "2023-12-29T16:40:43.098119Z",
     "iopub.status.idle": "2023-12-29T16:40:43.134533Z",
     "shell.execute_reply": "2023-12-29T16:40:43.133206Z"
    },
    "papermill": {
     "duration": 0.069331,
     "end_time": "2023-12-29T16:40:43.138438",
     "exception": false,
     "start_time": "2023-12-29T16:40:43.069107",
     "status": "completed"
    },
    "tags": []
   },
   "outputs": [
    {
     "data": {
      "text/plain": [
       "transaction_date\n",
       "2023-01-01     550\n",
       "2023-01-02     566\n",
       "2023-01-03     582\n",
       "2023-01-04     497\n",
       "2023-01-05     547\n",
       "              ... \n",
       "2023-06-26    1195\n",
       "2023-06-27    1277\n",
       "2023-06-28    1070\n",
       "2023-06-29    1009\n",
       "2023-06-30    1095\n",
       "Name: count, Length: 181, dtype: int64"
      ]
     },
     "execution_count": 9,
     "metadata": {},
     "output_type": "execute_result"
    }
   ],
   "source": [
    "df['transaction_date'].value_counts().sort_index()"
   ]
  },
  {
   "cell_type": "markdown",
   "id": "015a5eb0",
   "metadata": {
    "papermill": {
     "duration": 0.029731,
     "end_time": "2023-12-29T16:40:43.196711",
     "exception": false,
     "start_time": "2023-12-29T16:40:43.166980",
     "status": "completed"
    },
    "tags": []
   },
   "source": [
    "**Timeline of the sheet is from 1.1.2023 until 30.6.2023.**"
   ]
  },
  {
   "cell_type": "markdown",
   "id": "21c4b181",
   "metadata": {
    "papermill": {
     "duration": 0.028625,
     "end_time": "2023-12-29T16:40:43.253519",
     "exception": false,
     "start_time": "2023-12-29T16:40:43.224894",
     "status": "completed"
    },
    "tags": []
   },
   "source": [
    "**We will be interested to view transactions per hour, so we can slice the transaction_time column.**"
   ]
  },
  {
   "cell_type": "code",
   "execution_count": 10,
   "id": "9848775c",
   "metadata": {
    "execution": {
     "iopub.execute_input": "2023-12-29T16:40:43.310973Z",
     "iopub.status.busy": "2023-12-29T16:40:43.310494Z",
     "iopub.status.idle": "2023-12-29T16:40:43.403114Z",
     "shell.execute_reply": "2023-12-29T16:40:43.401416Z"
    },
    "papermill": {
     "duration": 0.125502,
     "end_time": "2023-12-29T16:40:43.406656",
     "exception": false,
     "start_time": "2023-12-29T16:40:43.281154",
     "status": "completed"
    },
    "tags": []
   },
   "outputs": [],
   "source": [
    "df['transaction_time'] = df['transaction_time'].str[:2]"
   ]
  },
  {
   "cell_type": "code",
   "execution_count": 11,
   "id": "4d295022",
   "metadata": {
    "execution": {
     "iopub.execute_input": "2023-12-29T16:40:43.464734Z",
     "iopub.status.busy": "2023-12-29T16:40:43.463831Z",
     "iopub.status.idle": "2023-12-29T16:40:43.503836Z",
     "shell.execute_reply": "2023-12-29T16:40:43.502398Z"
    },
    "papermill": {
     "duration": 0.073233,
     "end_time": "2023-12-29T16:40:43.506860",
     "exception": false,
     "start_time": "2023-12-29T16:40:43.433627",
     "status": "completed"
    },
    "tags": []
   },
   "outputs": [
    {
     "data": {
      "text/plain": [
       "transaction_time\n",
       "10    18545\n",
       "09    17764\n",
       "08    17654\n",
       "07    13428\n",
       "11     9766\n",
       "16     9093\n",
       "15     8979\n",
       "14     8933\n",
       "17     8745\n",
       "13     8714\n",
       "12     8708\n",
       "18     7498\n",
       "19     6092\n",
       "06     4594\n",
       "20      603\n",
       "Name: count, dtype: int64"
      ]
     },
     "execution_count": 11,
     "metadata": {},
     "output_type": "execute_result"
    }
   ],
   "source": [
    "df['transaction_time'].value_counts()"
   ]
  },
  {
   "cell_type": "markdown",
   "id": "4d60fafd",
   "metadata": {
    "papermill": {
     "duration": 0.027633,
     "end_time": "2023-12-29T16:40:43.564305",
     "exception": false,
     "start_time": "2023-12-29T16:40:43.536672",
     "status": "completed"
    },
    "tags": []
   },
   "source": [
    "**We can see that the first transactions happen at the 6th hour, and the last transactions take place at the 20th hour of the day. Although we can't know for sure yet, but we can assume these are the opening hours for the locations. We will be checking each location individualy also later on.**"
   ]
  },
  {
   "cell_type": "code",
   "execution_count": 12,
   "id": "068c28ab",
   "metadata": {
    "execution": {
     "iopub.execute_input": "2023-12-29T16:40:43.623241Z",
     "iopub.status.busy": "2023-12-29T16:40:43.622551Z",
     "iopub.status.idle": "2023-12-29T16:40:43.658520Z",
     "shell.execute_reply": "2023-12-29T16:40:43.657320Z"
    },
    "papermill": {
     "duration": 0.069473,
     "end_time": "2023-12-29T16:40:43.661000",
     "exception": false,
     "start_time": "2023-12-29T16:40:43.591527",
     "status": "completed"
    },
    "tags": []
   },
   "outputs": [
    {
     "data": {
      "text/plain": [
       "store_location\n",
       "Hell's Kitchen     50735\n",
       "Astoria            50599\n",
       "Lower Manhattan    47782\n",
       "Name: count, dtype: int64"
      ]
     },
     "execution_count": 12,
     "metadata": {},
     "output_type": "execute_result"
    }
   ],
   "source": [
    "df['store_location'].value_counts()"
   ]
  },
  {
   "cell_type": "markdown",
   "id": "5d0f3a95",
   "metadata": {
    "papermill": {
     "duration": 0.027864,
     "end_time": "2023-12-29T16:40:43.717766",
     "exception": false,
     "start_time": "2023-12-29T16:40:43.689902",
     "status": "completed"
    },
    "tags": []
   },
   "source": [
    "**The sheet contains three different store locations, which have roughly the same amount of transactions.**"
   ]
  },
  {
   "cell_type": "markdown",
   "id": "25a58c83",
   "metadata": {
    "papermill": {
     "duration": 0.026836,
     "end_time": "2023-12-29T16:40:43.771791",
     "exception": false,
     "start_time": "2023-12-29T16:40:43.744955",
     "status": "completed"
    },
    "tags": []
   },
   "source": [
    "**Use the query method to slice by the locations.**"
   ]
  },
  {
   "cell_type": "code",
   "execution_count": 13,
   "id": "fffd39a9",
   "metadata": {
    "execution": {
     "iopub.execute_input": "2023-12-29T16:40:43.832135Z",
     "iopub.status.busy": "2023-12-29T16:40:43.831275Z",
     "iopub.status.idle": "2023-12-29T16:40:43.897786Z",
     "shell.execute_reply": "2023-12-29T16:40:43.896398Z"
    },
    "papermill": {
     "duration": 0.101717,
     "end_time": "2023-12-29T16:40:43.901137",
     "exception": false,
     "start_time": "2023-12-29T16:40:43.799420",
     "status": "completed"
    },
    "tags": []
   },
   "outputs": [
    {
     "data": {
      "text/plain": [
       "transaction_id      50599\n",
       "transaction_date    50599\n",
       "transaction_time    50599\n",
       "transaction_qty     50599\n",
       "store_id            50599\n",
       "store_location      50599\n",
       "product_id          50599\n",
       "unit_price          50599\n",
       "product_category    50599\n",
       "product_type        50599\n",
       "product_detail      50599\n",
       "dtype: int64"
      ]
     },
     "execution_count": 13,
     "metadata": {},
     "output_type": "execute_result"
    }
   ],
   "source": [
    "df.query(\"store_location == 'Astoria'\").count()"
   ]
  },
  {
   "cell_type": "markdown",
   "id": "8d512eb7",
   "metadata": {
    "papermill": {
     "duration": 0.02892,
     "end_time": "2023-12-29T16:40:43.959319",
     "exception": false,
     "start_time": "2023-12-29T16:40:43.930399",
     "status": "completed"
    },
    "tags": []
   },
   "source": [
    "**Lets create \"handle\" for the transactions in all locations.**"
   ]
  },
  {
   "cell_type": "code",
   "execution_count": 14,
   "id": "bf2a16c8",
   "metadata": {
    "execution": {
     "iopub.execute_input": "2023-12-29T16:40:44.021972Z",
     "iopub.status.busy": "2023-12-29T16:40:44.021488Z",
     "iopub.status.idle": "2023-12-29T16:40:44.046779Z",
     "shell.execute_reply": "2023-12-29T16:40:44.045390Z"
    },
    "papermill": {
     "duration": 0.062318,
     "end_time": "2023-12-29T16:40:44.050098",
     "exception": false,
     "start_time": "2023-12-29T16:40:43.987780",
     "status": "completed"
    },
    "tags": []
   },
   "outputs": [],
   "source": [
    "astoria_transactions = df.query(\"store_location == 'Astoria'\")"
   ]
  },
  {
   "cell_type": "code",
   "execution_count": 15,
   "id": "e7a12e06",
   "metadata": {
    "execution": {
     "iopub.execute_input": "2023-12-29T16:40:44.108721Z",
     "iopub.status.busy": "2023-12-29T16:40:44.108250Z",
     "iopub.status.idle": "2023-12-29T16:40:44.127595Z",
     "shell.execute_reply": "2023-12-29T16:40:44.126177Z"
    },
    "papermill": {
     "duration": 0.051985,
     "end_time": "2023-12-29T16:40:44.130419",
     "exception": false,
     "start_time": "2023-12-29T16:40:44.078434",
     "status": "completed"
    },
    "tags": []
   },
   "outputs": [
    {
     "data": {
      "text/html": [
       "<div>\n",
       "<style scoped>\n",
       "    .dataframe tbody tr th:only-of-type {\n",
       "        vertical-align: middle;\n",
       "    }\n",
       "\n",
       "    .dataframe tbody tr th {\n",
       "        vertical-align: top;\n",
       "    }\n",
       "\n",
       "    .dataframe thead th {\n",
       "        text-align: right;\n",
       "    }\n",
       "</style>\n",
       "<table border=\"1\" class=\"dataframe\">\n",
       "  <thead>\n",
       "    <tr style=\"text-align: right;\">\n",
       "      <th></th>\n",
       "      <th>transaction_id</th>\n",
       "      <th>transaction_date</th>\n",
       "      <th>transaction_time</th>\n",
       "      <th>transaction_qty</th>\n",
       "      <th>store_id</th>\n",
       "      <th>store_location</th>\n",
       "      <th>product_id</th>\n",
       "      <th>unit_price</th>\n",
       "      <th>product_category</th>\n",
       "      <th>product_type</th>\n",
       "      <th>product_detail</th>\n",
       "    </tr>\n",
       "  </thead>\n",
       "  <tbody>\n",
       "    <tr>\n",
       "      <th>105</th>\n",
       "      <td>106</td>\n",
       "      <td>2023-01-01</td>\n",
       "      <td>11</td>\n",
       "      <td>1</td>\n",
       "      <td>3</td>\n",
       "      <td>Astoria</td>\n",
       "      <td>22</td>\n",
       "      <td>2.00</td>\n",
       "      <td>Coffee</td>\n",
       "      <td>Drip coffee</td>\n",
       "      <td>Our Old Time Diner Blend Sm</td>\n",
       "    </tr>\n",
       "    <tr>\n",
       "      <th>106</th>\n",
       "      <td>107</td>\n",
       "      <td>2023-01-01</td>\n",
       "      <td>11</td>\n",
       "      <td>1</td>\n",
       "      <td>3</td>\n",
       "      <td>Astoria</td>\n",
       "      <td>38</td>\n",
       "      <td>3.75</td>\n",
       "      <td>Coffee</td>\n",
       "      <td>Barista Espresso</td>\n",
       "      <td>Latte</td>\n",
       "    </tr>\n",
       "    <tr>\n",
       "      <th>107</th>\n",
       "      <td>108</td>\n",
       "      <td>2023-01-01</td>\n",
       "      <td>11</td>\n",
       "      <td>1</td>\n",
       "      <td>3</td>\n",
       "      <td>Astoria</td>\n",
       "      <td>75</td>\n",
       "      <td>3.50</td>\n",
       "      <td>Bakery</td>\n",
       "      <td>Pastry</td>\n",
       "      <td>Croissant</td>\n",
       "    </tr>\n",
       "    <tr>\n",
       "      <th>111</th>\n",
       "      <td>112</td>\n",
       "      <td>2023-01-01</td>\n",
       "      <td>11</td>\n",
       "      <td>1</td>\n",
       "      <td>3</td>\n",
       "      <td>Astoria</td>\n",
       "      <td>59</td>\n",
       "      <td>4.50</td>\n",
       "      <td>Drinking Chocolate</td>\n",
       "      <td>Hot chocolate</td>\n",
       "      <td>Dark chocolate Lg</td>\n",
       "    </tr>\n",
       "    <tr>\n",
       "      <th>113</th>\n",
       "      <td>114</td>\n",
       "      <td>2023-01-01</td>\n",
       "      <td>11</td>\n",
       "      <td>1</td>\n",
       "      <td>3</td>\n",
       "      <td>Astoria</td>\n",
       "      <td>59</td>\n",
       "      <td>4.50</td>\n",
       "      <td>Drinking Chocolate</td>\n",
       "      <td>Hot chocolate</td>\n",
       "      <td>Dark chocolate Lg</td>\n",
       "    </tr>\n",
       "  </tbody>\n",
       "</table>\n",
       "</div>"
      ],
      "text/plain": [
       "     transaction_id transaction_date transaction_time  transaction_qty  \\\n",
       "105             106       2023-01-01               11                1   \n",
       "106             107       2023-01-01               11                1   \n",
       "107             108       2023-01-01               11                1   \n",
       "111             112       2023-01-01               11                1   \n",
       "113             114       2023-01-01               11                1   \n",
       "\n",
       "     store_id store_location  product_id  unit_price    product_category  \\\n",
       "105         3        Astoria          22        2.00              Coffee   \n",
       "106         3        Astoria          38        3.75              Coffee   \n",
       "107         3        Astoria          75        3.50              Bakery   \n",
       "111         3        Astoria          59        4.50  Drinking Chocolate   \n",
       "113         3        Astoria          59        4.50  Drinking Chocolate   \n",
       "\n",
       "         product_type               product_detail  \n",
       "105       Drip coffee  Our Old Time Diner Blend Sm  \n",
       "106  Barista Espresso                        Latte  \n",
       "107            Pastry                    Croissant  \n",
       "111     Hot chocolate            Dark chocolate Lg  \n",
       "113     Hot chocolate            Dark chocolate Lg  "
      ]
     },
     "execution_count": 15,
     "metadata": {},
     "output_type": "execute_result"
    }
   ],
   "source": [
    "astoria_transactions.head()"
   ]
  },
  {
   "cell_type": "code",
   "execution_count": 16,
   "id": "bf8c03f7",
   "metadata": {
    "execution": {
     "iopub.execute_input": "2023-12-29T16:40:44.199937Z",
     "iopub.status.busy": "2023-12-29T16:40:44.199020Z",
     "iopub.status.idle": "2023-12-29T16:40:44.267509Z",
     "shell.execute_reply": "2023-12-29T16:40:44.266180Z"
    },
    "papermill": {
     "duration": 0.11013,
     "end_time": "2023-12-29T16:40:44.270330",
     "exception": false,
     "start_time": "2023-12-29T16:40:44.160200",
     "status": "completed"
    },
    "tags": []
   },
   "outputs": [
    {
     "data": {
      "text/plain": [
       "transaction_id      47782\n",
       "transaction_date    47782\n",
       "transaction_time    47782\n",
       "transaction_qty     47782\n",
       "store_id            47782\n",
       "store_location      47782\n",
       "product_id          47782\n",
       "unit_price          47782\n",
       "product_category    47782\n",
       "product_type        47782\n",
       "product_detail      47782\n",
       "dtype: int64"
      ]
     },
     "execution_count": 16,
     "metadata": {},
     "output_type": "execute_result"
    }
   ],
   "source": [
    "df.query(\"store_location == 'Lower Manhattan'\").count()"
   ]
  },
  {
   "cell_type": "code",
   "execution_count": 17,
   "id": "fd4dbd2d",
   "metadata": {
    "execution": {
     "iopub.execute_input": "2023-12-29T16:40:44.347787Z",
     "iopub.status.busy": "2023-12-29T16:40:44.347147Z",
     "iopub.status.idle": "2023-12-29T16:40:44.381935Z",
     "shell.execute_reply": "2023-12-29T16:40:44.380356Z"
    },
    "papermill": {
     "duration": 0.082955,
     "end_time": "2023-12-29T16:40:44.385235",
     "exception": false,
     "start_time": "2023-12-29T16:40:44.302280",
     "status": "completed"
    },
    "tags": []
   },
   "outputs": [],
   "source": [
    "manhattan_transactions = df.query(\"store_location == 'Lower Manhattan'\")"
   ]
  },
  {
   "cell_type": "code",
   "execution_count": 18,
   "id": "71049601",
   "metadata": {
    "execution": {
     "iopub.execute_input": "2023-12-29T16:40:44.445093Z",
     "iopub.status.busy": "2023-12-29T16:40:44.444542Z",
     "iopub.status.idle": "2023-12-29T16:40:44.464935Z",
     "shell.execute_reply": "2023-12-29T16:40:44.463507Z"
    },
    "papermill": {
     "duration": 0.05264,
     "end_time": "2023-12-29T16:40:44.467750",
     "exception": false,
     "start_time": "2023-12-29T16:40:44.415110",
     "status": "completed"
    },
    "tags": []
   },
   "outputs": [
    {
     "data": {
      "text/html": [
       "<div>\n",
       "<style scoped>\n",
       "    .dataframe tbody tr th:only-of-type {\n",
       "        vertical-align: middle;\n",
       "    }\n",
       "\n",
       "    .dataframe tbody tr th {\n",
       "        vertical-align: top;\n",
       "    }\n",
       "\n",
       "    .dataframe thead th {\n",
       "        text-align: right;\n",
       "    }\n",
       "</style>\n",
       "<table border=\"1\" class=\"dataframe\">\n",
       "  <thead>\n",
       "    <tr style=\"text-align: right;\">\n",
       "      <th></th>\n",
       "      <th>transaction_id</th>\n",
       "      <th>transaction_date</th>\n",
       "      <th>transaction_time</th>\n",
       "      <th>transaction_qty</th>\n",
       "      <th>store_id</th>\n",
       "      <th>store_location</th>\n",
       "      <th>product_id</th>\n",
       "      <th>unit_price</th>\n",
       "      <th>product_category</th>\n",
       "      <th>product_type</th>\n",
       "      <th>product_detail</th>\n",
       "    </tr>\n",
       "  </thead>\n",
       "  <tbody>\n",
       "    <tr>\n",
       "      <th>0</th>\n",
       "      <td>1</td>\n",
       "      <td>2023-01-01</td>\n",
       "      <td>07</td>\n",
       "      <td>2</td>\n",
       "      <td>5</td>\n",
       "      <td>Lower Manhattan</td>\n",
       "      <td>32</td>\n",
       "      <td>3.0</td>\n",
       "      <td>Coffee</td>\n",
       "      <td>Gourmet brewed coffee</td>\n",
       "      <td>Ethiopia Rg</td>\n",
       "    </tr>\n",
       "    <tr>\n",
       "      <th>1</th>\n",
       "      <td>2</td>\n",
       "      <td>2023-01-01</td>\n",
       "      <td>07</td>\n",
       "      <td>2</td>\n",
       "      <td>5</td>\n",
       "      <td>Lower Manhattan</td>\n",
       "      <td>57</td>\n",
       "      <td>3.1</td>\n",
       "      <td>Tea</td>\n",
       "      <td>Brewed Chai tea</td>\n",
       "      <td>Spicy Eye Opener Chai Lg</td>\n",
       "    </tr>\n",
       "    <tr>\n",
       "      <th>2</th>\n",
       "      <td>3</td>\n",
       "      <td>2023-01-01</td>\n",
       "      <td>07</td>\n",
       "      <td>2</td>\n",
       "      <td>5</td>\n",
       "      <td>Lower Manhattan</td>\n",
       "      <td>59</td>\n",
       "      <td>4.5</td>\n",
       "      <td>Drinking Chocolate</td>\n",
       "      <td>Hot chocolate</td>\n",
       "      <td>Dark chocolate Lg</td>\n",
       "    </tr>\n",
       "    <tr>\n",
       "      <th>3</th>\n",
       "      <td>4</td>\n",
       "      <td>2023-01-01</td>\n",
       "      <td>07</td>\n",
       "      <td>1</td>\n",
       "      <td>5</td>\n",
       "      <td>Lower Manhattan</td>\n",
       "      <td>22</td>\n",
       "      <td>2.0</td>\n",
       "      <td>Coffee</td>\n",
       "      <td>Drip coffee</td>\n",
       "      <td>Our Old Time Diner Blend Sm</td>\n",
       "    </tr>\n",
       "    <tr>\n",
       "      <th>4</th>\n",
       "      <td>5</td>\n",
       "      <td>2023-01-01</td>\n",
       "      <td>07</td>\n",
       "      <td>2</td>\n",
       "      <td>5</td>\n",
       "      <td>Lower Manhattan</td>\n",
       "      <td>57</td>\n",
       "      <td>3.1</td>\n",
       "      <td>Tea</td>\n",
       "      <td>Brewed Chai tea</td>\n",
       "      <td>Spicy Eye Opener Chai Lg</td>\n",
       "    </tr>\n",
       "  </tbody>\n",
       "</table>\n",
       "</div>"
      ],
      "text/plain": [
       "   transaction_id transaction_date transaction_time  transaction_qty  \\\n",
       "0               1       2023-01-01               07                2   \n",
       "1               2       2023-01-01               07                2   \n",
       "2               3       2023-01-01               07                2   \n",
       "3               4       2023-01-01               07                1   \n",
       "4               5       2023-01-01               07                2   \n",
       "\n",
       "   store_id   store_location  product_id  unit_price    product_category  \\\n",
       "0         5  Lower Manhattan          32         3.0              Coffee   \n",
       "1         5  Lower Manhattan          57         3.1                 Tea   \n",
       "2         5  Lower Manhattan          59         4.5  Drinking Chocolate   \n",
       "3         5  Lower Manhattan          22         2.0              Coffee   \n",
       "4         5  Lower Manhattan          57         3.1                 Tea   \n",
       "\n",
       "            product_type               product_detail  \n",
       "0  Gourmet brewed coffee                  Ethiopia Rg  \n",
       "1        Brewed Chai tea     Spicy Eye Opener Chai Lg  \n",
       "2          Hot chocolate            Dark chocolate Lg  \n",
       "3            Drip coffee  Our Old Time Diner Blend Sm  \n",
       "4        Brewed Chai tea     Spicy Eye Opener Chai Lg  "
      ]
     },
     "execution_count": 18,
     "metadata": {},
     "output_type": "execute_result"
    }
   ],
   "source": [
    "manhattan_transactions.head()"
   ]
  },
  {
   "cell_type": "code",
   "execution_count": 19,
   "id": "de9ec396",
   "metadata": {
    "execution": {
     "iopub.execute_input": "2023-12-29T16:40:44.530270Z",
     "iopub.status.busy": "2023-12-29T16:40:44.528722Z",
     "iopub.status.idle": "2023-12-29T16:40:44.535218Z",
     "shell.execute_reply": "2023-12-29T16:40:44.534025Z"
    },
    "papermill": {
     "duration": 0.041878,
     "end_time": "2023-12-29T16:40:44.538432",
     "exception": false,
     "start_time": "2023-12-29T16:40:44.496554",
     "status": "completed"
    },
    "tags": []
   },
   "outputs": [],
   "source": [
    "# df.query(\"store_location == 'Hell's Kitchen\").count()\n",
    "# the \"'\" in \"Hell's\" is causing problems for the interpreter"
   ]
  },
  {
   "cell_type": "markdown",
   "id": "f6893da2",
   "metadata": {
    "papermill": {
     "duration": 0.028475,
     "end_time": "2023-12-29T16:40:44.595368",
     "exception": false,
     "start_time": "2023-12-29T16:40:44.566893",
     "status": "completed"
    },
    "tags": []
   },
   "source": [
    "**We will use the store_id for location Hell's Kitchen. We will search it in the list of value_counts (df['store_id'].value_counts), and find the matching amount of transactions as Hell's Kitchen.**"
   ]
  },
  {
   "cell_type": "code",
   "execution_count": 20,
   "id": "3faa4403",
   "metadata": {
    "execution": {
     "iopub.execute_input": "2023-12-29T16:40:44.667934Z",
     "iopub.status.busy": "2023-12-29T16:40:44.667314Z",
     "iopub.status.idle": "2023-12-29T16:40:44.680822Z",
     "shell.execute_reply": "2023-12-29T16:40:44.679507Z"
    },
    "papermill": {
     "duration": 0.050204,
     "end_time": "2023-12-29T16:40:44.683794",
     "exception": false,
     "start_time": "2023-12-29T16:40:44.633590",
     "status": "completed"
    },
    "tags": []
   },
   "outputs": [
    {
     "data": {
      "text/plain": [
       "store_id\n",
       "8    50735\n",
       "3    50599\n",
       "5    47782\n",
       "Name: count, dtype: int64"
      ]
     },
     "execution_count": 20,
     "metadata": {},
     "output_type": "execute_result"
    }
   ],
   "source": [
    "df['store_id'].value_counts()"
   ]
  },
  {
   "cell_type": "markdown",
   "id": "7da8a0e3",
   "metadata": {
    "papermill": {
     "duration": 0.028937,
     "end_time": "2023-12-29T16:40:44.744828",
     "exception": false,
     "start_time": "2023-12-29T16:40:44.715891",
     "status": "completed"
    },
    "tags": []
   },
   "source": [
    "**By running \"df['store_location'].value_counts()\" Hell's Kitchen had 50735 transactions. By running \"df['store_id'].value_counts()\" store with the store ID of \"8\" had the same amount of transactions as Hell's Kitchen, so the store_id of Hell's Kitchen is 8.**"
   ]
  },
  {
   "cell_type": "code",
   "execution_count": 21,
   "id": "a9357806",
   "metadata": {
    "execution": {
     "iopub.execute_input": "2023-12-29T16:40:44.806048Z",
     "iopub.status.busy": "2023-12-29T16:40:44.805574Z",
     "iopub.status.idle": "2023-12-29T16:40:44.864877Z",
     "shell.execute_reply": "2023-12-29T16:40:44.863515Z"
    },
    "papermill": {
     "duration": 0.093246,
     "end_time": "2023-12-29T16:40:44.868178",
     "exception": false,
     "start_time": "2023-12-29T16:40:44.774932",
     "status": "completed"
    },
    "tags": []
   },
   "outputs": [
    {
     "data": {
      "text/plain": [
       "transaction_id      50735\n",
       "transaction_date    50735\n",
       "transaction_time    50735\n",
       "transaction_qty     50735\n",
       "store_id            50735\n",
       "store_location      50735\n",
       "product_id          50735\n",
       "unit_price          50735\n",
       "product_category    50735\n",
       "product_type        50735\n",
       "product_detail      50735\n",
       "dtype: int64"
      ]
     },
     "execution_count": 21,
     "metadata": {},
     "output_type": "execute_result"
    }
   ],
   "source": [
    "df.query(\"store_id == 8\").count()"
   ]
  },
  {
   "cell_type": "code",
   "execution_count": 22,
   "id": "04dad458",
   "metadata": {
    "execution": {
     "iopub.execute_input": "2023-12-29T16:40:44.928719Z",
     "iopub.status.busy": "2023-12-29T16:40:44.928245Z",
     "iopub.status.idle": "2023-12-29T16:40:44.946248Z",
     "shell.execute_reply": "2023-12-29T16:40:44.945174Z"
    },
    "papermill": {
     "duration": 0.052163,
     "end_time": "2023-12-29T16:40:44.949114",
     "exception": false,
     "start_time": "2023-12-29T16:40:44.896951",
     "status": "completed"
    },
    "tags": []
   },
   "outputs": [],
   "source": [
    "hells_kitchen_transactions = df.query(\"store_id == 8\")"
   ]
  },
  {
   "cell_type": "code",
   "execution_count": 23,
   "id": "c1ea29f2",
   "metadata": {
    "execution": {
     "iopub.execute_input": "2023-12-29T16:40:45.010683Z",
     "iopub.status.busy": "2023-12-29T16:40:45.009628Z",
     "iopub.status.idle": "2023-12-29T16:40:45.029678Z",
     "shell.execute_reply": "2023-12-29T16:40:45.028373Z"
    },
    "papermill": {
     "duration": 0.05477,
     "end_time": "2023-12-29T16:40:45.032807",
     "exception": false,
     "start_time": "2023-12-29T16:40:44.978037",
     "status": "completed"
    },
    "tags": []
   },
   "outputs": [
    {
     "data": {
      "text/html": [
       "<div>\n",
       "<style scoped>\n",
       "    .dataframe tbody tr th:only-of-type {\n",
       "        vertical-align: middle;\n",
       "    }\n",
       "\n",
       "    .dataframe tbody tr th {\n",
       "        vertical-align: top;\n",
       "    }\n",
       "\n",
       "    .dataframe thead th {\n",
       "        text-align: right;\n",
       "    }\n",
       "</style>\n",
       "<table border=\"1\" class=\"dataframe\">\n",
       "  <thead>\n",
       "    <tr style=\"text-align: right;\">\n",
       "      <th></th>\n",
       "      <th>transaction_id</th>\n",
       "      <th>transaction_date</th>\n",
       "      <th>transaction_time</th>\n",
       "      <th>transaction_qty</th>\n",
       "      <th>store_id</th>\n",
       "      <th>store_location</th>\n",
       "      <th>product_id</th>\n",
       "      <th>unit_price</th>\n",
       "      <th>product_category</th>\n",
       "      <th>product_type</th>\n",
       "      <th>product_detail</th>\n",
       "    </tr>\n",
       "  </thead>\n",
       "  <tbody>\n",
       "    <tr>\n",
       "      <th>17</th>\n",
       "      <td>18</td>\n",
       "      <td>2023-01-01</td>\n",
       "      <td>08</td>\n",
       "      <td>1</td>\n",
       "      <td>8</td>\n",
       "      <td>Hell's Kitchen</td>\n",
       "      <td>42</td>\n",
       "      <td>2.50</td>\n",
       "      <td>Tea</td>\n",
       "      <td>Brewed herbal tea</td>\n",
       "      <td>Lemon Grass Rg</td>\n",
       "    </tr>\n",
       "    <tr>\n",
       "      <th>18</th>\n",
       "      <td>19</td>\n",
       "      <td>2023-01-01</td>\n",
       "      <td>08</td>\n",
       "      <td>2</td>\n",
       "      <td>8</td>\n",
       "      <td>Hell's Kitchen</td>\n",
       "      <td>59</td>\n",
       "      <td>4.50</td>\n",
       "      <td>Drinking Chocolate</td>\n",
       "      <td>Hot chocolate</td>\n",
       "      <td>Dark chocolate Lg</td>\n",
       "    </tr>\n",
       "    <tr>\n",
       "      <th>19</th>\n",
       "      <td>20</td>\n",
       "      <td>2023-01-01</td>\n",
       "      <td>08</td>\n",
       "      <td>1</td>\n",
       "      <td>8</td>\n",
       "      <td>Hell's Kitchen</td>\n",
       "      <td>61</td>\n",
       "      <td>4.75</td>\n",
       "      <td>Drinking Chocolate</td>\n",
       "      <td>Hot chocolate</td>\n",
       "      <td>Sustainably Grown Organic Lg</td>\n",
       "    </tr>\n",
       "    <tr>\n",
       "      <th>20</th>\n",
       "      <td>21</td>\n",
       "      <td>2023-01-01</td>\n",
       "      <td>08</td>\n",
       "      <td>2</td>\n",
       "      <td>8</td>\n",
       "      <td>Hell's Kitchen</td>\n",
       "      <td>33</td>\n",
       "      <td>3.50</td>\n",
       "      <td>Coffee</td>\n",
       "      <td>Gourmet brewed coffee</td>\n",
       "      <td>Ethiopia Lg</td>\n",
       "    </tr>\n",
       "    <tr>\n",
       "      <th>23</th>\n",
       "      <td>24</td>\n",
       "      <td>2023-01-01</td>\n",
       "      <td>08</td>\n",
       "      <td>1</td>\n",
       "      <td>8</td>\n",
       "      <td>Hell's Kitchen</td>\n",
       "      <td>56</td>\n",
       "      <td>2.55</td>\n",
       "      <td>Tea</td>\n",
       "      <td>Brewed Chai tea</td>\n",
       "      <td>Spicy Eye Opener Chai Rg</td>\n",
       "    </tr>\n",
       "  </tbody>\n",
       "</table>\n",
       "</div>"
      ],
      "text/plain": [
       "    transaction_id transaction_date transaction_time  transaction_qty  \\\n",
       "17              18       2023-01-01               08                1   \n",
       "18              19       2023-01-01               08                2   \n",
       "19              20       2023-01-01               08                1   \n",
       "20              21       2023-01-01               08                2   \n",
       "23              24       2023-01-01               08                1   \n",
       "\n",
       "    store_id  store_location  product_id  unit_price    product_category  \\\n",
       "17         8  Hell's Kitchen          42        2.50                 Tea   \n",
       "18         8  Hell's Kitchen          59        4.50  Drinking Chocolate   \n",
       "19         8  Hell's Kitchen          61        4.75  Drinking Chocolate   \n",
       "20         8  Hell's Kitchen          33        3.50              Coffee   \n",
       "23         8  Hell's Kitchen          56        2.55                 Tea   \n",
       "\n",
       "             product_type                product_detail  \n",
       "17      Brewed herbal tea                Lemon Grass Rg  \n",
       "18          Hot chocolate             Dark chocolate Lg  \n",
       "19          Hot chocolate  Sustainably Grown Organic Lg  \n",
       "20  Gourmet brewed coffee                   Ethiopia Lg  \n",
       "23        Brewed Chai tea      Spicy Eye Opener Chai Rg  "
      ]
     },
     "execution_count": 23,
     "metadata": {},
     "output_type": "execute_result"
    }
   ],
   "source": [
    "hells_kitchen_transactions.head()"
   ]
  },
  {
   "cell_type": "markdown",
   "id": "c3ff9e06",
   "metadata": {
    "papermill": {
     "duration": 0.030196,
     "end_time": "2023-12-29T16:40:45.092235",
     "exception": false,
     "start_time": "2023-12-29T16:40:45.062039",
     "status": "completed"
    },
    "tags": []
   },
   "source": [
    "**Since we are trying to understand trends at this exploratory analysis we will be interested in the product category, and maybe product type. For now we will not be taking into account the day of the week, although it would be a step towards more advanced analysis.\n",
    "We can now drop columns: transaction_id, transaction_date, product_id, product_detail**"
   ]
  },
  {
   "cell_type": "code",
   "execution_count": 24,
   "id": "b170b391",
   "metadata": {
    "execution": {
     "iopub.execute_input": "2023-12-29T16:40:45.154241Z",
     "iopub.status.busy": "2023-12-29T16:40:45.153742Z",
     "iopub.status.idle": "2023-12-29T16:40:45.161561Z",
     "shell.execute_reply": "2023-12-29T16:40:45.160597Z"
    },
    "papermill": {
     "duration": 0.042006,
     "end_time": "2023-12-29T16:40:45.163851",
     "exception": false,
     "start_time": "2023-12-29T16:40:45.121845",
     "status": "completed"
    },
    "tags": []
   },
   "outputs": [
    {
     "data": {
      "text/plain": [
       "Index(['transaction_id', 'transaction_date', 'transaction_time',\n",
       "       'transaction_qty', 'store_id', 'store_location', 'product_id',\n",
       "       'unit_price', 'product_category', 'product_type', 'product_detail'],\n",
       "      dtype='object')"
      ]
     },
     "execution_count": 24,
     "metadata": {},
     "output_type": "execute_result"
    }
   ],
   "source": [
    "df.columns"
   ]
  },
  {
   "cell_type": "code",
   "execution_count": 25,
   "id": "72bc0612",
   "metadata": {
    "execution": {
     "iopub.execute_input": "2023-12-29T16:40:45.235758Z",
     "iopub.status.busy": "2023-12-29T16:40:45.234761Z",
     "iopub.status.idle": "2023-12-29T16:40:45.295841Z",
     "shell.execute_reply": "2023-12-29T16:40:45.294699Z"
    },
    "papermill": {
     "duration": 0.104271,
     "end_time": "2023-12-29T16:40:45.298846",
     "exception": false,
     "start_time": "2023-12-29T16:40:45.194575",
     "status": "completed"
    },
    "tags": []
   },
   "outputs": [],
   "source": [
    "#Dropping columns commenting them out (easier to keep track of dropped/selected columns)\n",
    "\n",
    "df = df[[#'transaction_id', 'transaction_date', \n",
    "    'transaction_time',\n",
    "       'transaction_qty', 'store_id', 'store_location', \n",
    "    #'product_id',\n",
    "       'unit_price', 'product_category', 'product_type', \n",
    "    #'product_detail'\n",
    "]].copy()"
   ]
  },
  {
   "cell_type": "code",
   "execution_count": 26,
   "id": "20c7d511",
   "metadata": {
    "execution": {
     "iopub.execute_input": "2023-12-29T16:40:45.360809Z",
     "iopub.status.busy": "2023-12-29T16:40:45.360300Z",
     "iopub.status.idle": "2023-12-29T16:40:45.377319Z",
     "shell.execute_reply": "2023-12-29T16:40:45.376061Z"
    },
    "papermill": {
     "duration": 0.051043,
     "end_time": "2023-12-29T16:40:45.380245",
     "exception": false,
     "start_time": "2023-12-29T16:40:45.329202",
     "status": "completed"
    },
    "tags": []
   },
   "outputs": [
    {
     "data": {
      "text/html": [
       "<div>\n",
       "<style scoped>\n",
       "    .dataframe tbody tr th:only-of-type {\n",
       "        vertical-align: middle;\n",
       "    }\n",
       "\n",
       "    .dataframe tbody tr th {\n",
       "        vertical-align: top;\n",
       "    }\n",
       "\n",
       "    .dataframe thead th {\n",
       "        text-align: right;\n",
       "    }\n",
       "</style>\n",
       "<table border=\"1\" class=\"dataframe\">\n",
       "  <thead>\n",
       "    <tr style=\"text-align: right;\">\n",
       "      <th></th>\n",
       "      <th>transaction_time</th>\n",
       "      <th>transaction_qty</th>\n",
       "      <th>store_id</th>\n",
       "      <th>store_location</th>\n",
       "      <th>unit_price</th>\n",
       "      <th>product_category</th>\n",
       "      <th>product_type</th>\n",
       "    </tr>\n",
       "  </thead>\n",
       "  <tbody>\n",
       "    <tr>\n",
       "      <th>0</th>\n",
       "      <td>07</td>\n",
       "      <td>2</td>\n",
       "      <td>5</td>\n",
       "      <td>Lower Manhattan</td>\n",
       "      <td>3.0</td>\n",
       "      <td>Coffee</td>\n",
       "      <td>Gourmet brewed coffee</td>\n",
       "    </tr>\n",
       "    <tr>\n",
       "      <th>1</th>\n",
       "      <td>07</td>\n",
       "      <td>2</td>\n",
       "      <td>5</td>\n",
       "      <td>Lower Manhattan</td>\n",
       "      <td>3.1</td>\n",
       "      <td>Tea</td>\n",
       "      <td>Brewed Chai tea</td>\n",
       "    </tr>\n",
       "    <tr>\n",
       "      <th>2</th>\n",
       "      <td>07</td>\n",
       "      <td>2</td>\n",
       "      <td>5</td>\n",
       "      <td>Lower Manhattan</td>\n",
       "      <td>4.5</td>\n",
       "      <td>Drinking Chocolate</td>\n",
       "      <td>Hot chocolate</td>\n",
       "    </tr>\n",
       "    <tr>\n",
       "      <th>3</th>\n",
       "      <td>07</td>\n",
       "      <td>1</td>\n",
       "      <td>5</td>\n",
       "      <td>Lower Manhattan</td>\n",
       "      <td>2.0</td>\n",
       "      <td>Coffee</td>\n",
       "      <td>Drip coffee</td>\n",
       "    </tr>\n",
       "    <tr>\n",
       "      <th>4</th>\n",
       "      <td>07</td>\n",
       "      <td>2</td>\n",
       "      <td>5</td>\n",
       "      <td>Lower Manhattan</td>\n",
       "      <td>3.1</td>\n",
       "      <td>Tea</td>\n",
       "      <td>Brewed Chai tea</td>\n",
       "    </tr>\n",
       "  </tbody>\n",
       "</table>\n",
       "</div>"
      ],
      "text/plain": [
       "  transaction_time  transaction_qty  store_id   store_location  unit_price  \\\n",
       "0               07                2         5  Lower Manhattan         3.0   \n",
       "1               07                2         5  Lower Manhattan         3.1   \n",
       "2               07                2         5  Lower Manhattan         4.5   \n",
       "3               07                1         5  Lower Manhattan         2.0   \n",
       "4               07                2         5  Lower Manhattan         3.1   \n",
       "\n",
       "     product_category           product_type  \n",
       "0              Coffee  Gourmet brewed coffee  \n",
       "1                 Tea        Brewed Chai tea  \n",
       "2  Drinking Chocolate          Hot chocolate  \n",
       "3              Coffee            Drip coffee  \n",
       "4                 Tea        Brewed Chai tea  "
      ]
     },
     "execution_count": 26,
     "metadata": {},
     "output_type": "execute_result"
    }
   ],
   "source": [
    "df.head()"
   ]
  },
  {
   "cell_type": "markdown",
   "id": "76a5a71d",
   "metadata": {
    "papermill": {
     "duration": 0.031466,
     "end_time": "2023-12-29T16:40:45.443103",
     "exception": false,
     "start_time": "2023-12-29T16:40:45.411637",
     "status": "completed"
    },
    "tags": []
   },
   "source": [
    "**Look at the busiest hours individualy by each location.**"
   ]
  },
  {
   "cell_type": "code",
   "execution_count": 27,
   "id": "a8106f9a",
   "metadata": {
    "execution": {
     "iopub.execute_input": "2023-12-29T16:40:45.506020Z",
     "iopub.status.busy": "2023-12-29T16:40:45.505541Z",
     "iopub.status.idle": "2023-12-29T16:40:45.525623Z",
     "shell.execute_reply": "2023-12-29T16:40:45.524457Z"
    },
    "papermill": {
     "duration": 0.05483,
     "end_time": "2023-12-29T16:40:45.528588",
     "exception": false,
     "start_time": "2023-12-29T16:40:45.473758",
     "status": "completed"
    },
    "tags": []
   },
   "outputs": [
    {
     "data": {
      "text/plain": [
       "transaction_time\n",
       "10    5291\n",
       "09    5083\n",
       "08    4966\n",
       "07    4181\n",
       "16    3599\n",
       "19    3565\n",
       "18    3463\n",
       "13    3456\n",
       "12    3438\n",
       "15    3423\n",
       "11    3413\n",
       "17    3402\n",
       "14    3319\n",
       "Name: count, dtype: int64"
      ]
     },
     "execution_count": 27,
     "metadata": {},
     "output_type": "execute_result"
    }
   ],
   "source": [
    "astoria_transactions['transaction_time'].value_counts()"
   ]
  },
  {
   "cell_type": "markdown",
   "id": "ed941dd4",
   "metadata": {
    "papermill": {
     "duration": 0.029609,
     "end_time": "2023-12-29T16:40:45.588748",
     "exception": false,
     "start_time": "2023-12-29T16:40:45.559139",
     "status": "completed"
    },
    "tags": []
   },
   "source": [
    "**Astoria store has transactions from 07 until 19, so we may assume the opening hours differ within locations.**"
   ]
  },
  {
   "cell_type": "code",
   "execution_count": 28,
   "id": "7362a8ae",
   "metadata": {
    "execution": {
     "iopub.execute_input": "2023-12-29T16:40:45.650506Z",
     "iopub.status.busy": "2023-12-29T16:40:45.649993Z",
     "iopub.status.idle": "2023-12-29T16:40:46.072511Z",
     "shell.execute_reply": "2023-12-29T16:40:46.071085Z"
    },
    "papermill": {
     "duration": 0.457402,
     "end_time": "2023-12-29T16:40:46.075751",
     "exception": false,
     "start_time": "2023-12-29T16:40:45.618349",
     "status": "completed"
    },
    "tags": []
   },
   "outputs": [
    {
     "data": {
      "image/png": "[encoded data removed]",
      "text/plain": [
       "<Figure size 640x480 with 1 Axes>"
      ]
     },
     "metadata": {},
     "output_type": "display_data"
    }
   ],
   "source": [
    "ax = astoria_transactions['transaction_time'].value_counts().sort_index().plot(kind='bar', title='Astoria busiest hours')\n",
    "ax.set_xlabel('Time (hours)')\n",
    "ax.set_ylabel('Transactions (Customers)')\n",
    "plt.show()"
   ]
  },
  {
   "cell_type": "code",
   "execution_count": 29,
   "id": "64e490df",
   "metadata": {
    "execution": {
     "iopub.execute_input": "2023-12-29T16:40:46.140392Z",
     "iopub.status.busy": "2023-12-29T16:40:46.139848Z",
     "iopub.status.idle": "2023-12-29T16:40:46.524641Z",
     "shell.execute_reply": "2023-12-29T16:40:46.523359Z"
    },
    "papermill": {
     "duration": 0.421029,
     "end_time": "2023-12-29T16:40:46.527715",
     "exception": false,
     "start_time": "2023-12-29T16:40:46.106686",
     "status": "completed"
    },
    "tags": []
   },
   "outputs": [
    {
     "data": {
      "image/png": "[encoded data removed]",
      "text/plain": [
       "<Figure size 640x480 with 1 Axes>"
      ]
     },
     "metadata": {},
     "output_type": "display_data"
    }
   ],
   "source": [
    "ax = manhattan_transactions['transaction_time'].value_counts().sort_index().plot(kind='bar', title='Lower Manhattan busiest hours')\n",
    "ax.set_xlabel('Time (hours)')\n",
    "ax.set_ylabel('Transactions (Customers)')\n",
    "plt.show()"
   ]
  },
  {
   "cell_type": "markdown",
   "id": "b30fd379",
   "metadata": {
    "papermill": {
     "duration": 0.030957,
     "end_time": "2023-12-29T16:40:46.591430",
     "exception": false,
     "start_time": "2023-12-29T16:40:46.560473",
     "status": "completed"
    },
    "tags": []
   },
   "source": [
    "**Lower Manhattan location opening hours are from 06 until 20. The last two hours barely have customers. The opening hours should be adjusted, unless the shop is open to prepare for the next day behalf of all locations, or other business is handled (wholesale, deliveries, etc.).**"
   ]
  },
  {
   "cell_type": "code",
   "execution_count": 30,
   "id": "70314505",
   "metadata": {
    "execution": {
     "iopub.execute_input": "2023-12-29T16:40:46.658001Z",
     "iopub.status.busy": "2023-12-29T16:40:46.657482Z",
     "iopub.status.idle": "2023-12-29T16:40:47.058942Z",
     "shell.execute_reply": "2023-12-29T16:40:47.057873Z"
    },
    "papermill": {
     "duration": 0.439348,
     "end_time": "2023-12-29T16:40:47.062265",
     "exception": false,
     "start_time": "2023-12-29T16:40:46.622917",
     "status": "completed"
    },
    "tags": []
   },
   "outputs": [
    {
     "data": {
      "image/png": "[encoded data removed]",
      "text/plain": [
       "<Figure size 640x480 with 1 Axes>"
      ]
     },
     "metadata": {},
     "output_type": "display_data"
    }
   ],
   "source": [
    "ax = hells_kitchen_transactions['transaction_time'].value_counts().sort_index().plot(kind='bar', title=\"Hell's Kitchen busiest hours\")\n",
    "ax.set_xlabel('Time (hours)')\n",
    "ax.set_ylabel('Transactions (Customers)')\n",
    "plt.show()"
   ]
  },
  {
   "cell_type": "markdown",
   "id": "33c4276b",
   "metadata": {
    "papermill": {
     "duration": 0.03165,
     "end_time": "2023-12-29T16:40:47.126669",
     "exception": false,
     "start_time": "2023-12-29T16:40:47.095019",
     "status": "completed"
    },
    "tags": []
   },
   "source": [
    "**All of the locations have the same busiest hours 08, 09, 10. None of the locations are the same. Astoria has shorter opening hours and a more stable customer distribution compared to Hell's Kitchen and Lower Manhattan. Lower Manhattan had a good amount of customers on the first hour, but the last two hours are close to non-existing. Hell's Kitchen has a slow first and last hour, which shows the best hours for customers(07-19).**\n",
    "\n",
    "**However there might be other actions taking place during slow hours to enhance synergy between the locations. Since Astoria location has shorter opening hours and I assume the locations are in the New York City area (Hell's Kitchen and Lower Manhattan) it could be a smaller locations with smaller amount of staff. A smaller location could also indicate a smaller kitchen, which makes the production of products less convenient. This could also explain the two consequential slow hours in Lower Manhattan, if they produce the products sold in Astoria location.**"
   ]
  },
  {
   "cell_type": "markdown",
   "id": "d27d0d88",
   "metadata": {
    "papermill": {
     "duration": 0.031891,
     "end_time": "2023-12-29T16:40:47.190674",
     "exception": false,
     "start_time": "2023-12-29T16:40:47.158783",
     "status": "completed"
    },
    "tags": []
   },
   "source": [
    "**Lets better understand the categories and products.**"
   ]
  },
  {
   "cell_type": "code",
   "execution_count": 31,
   "id": "52075ecb",
   "metadata": {
    "execution": {
     "iopub.execute_input": "2023-12-29T16:40:47.262415Z",
     "iopub.status.busy": "2023-12-29T16:40:47.260874Z",
     "iopub.status.idle": "2023-12-29T16:40:47.294577Z",
     "shell.execute_reply": "2023-12-29T16:40:47.293263Z"
    },
    "papermill": {
     "duration": 0.069893,
     "end_time": "2023-12-29T16:40:47.297456",
     "exception": false,
     "start_time": "2023-12-29T16:40:47.227563",
     "status": "completed"
    },
    "tags": []
   },
   "outputs": [
    {
     "data": {
      "text/plain": [
       "product_category\n",
       "Coffee                58416\n",
       "Tea                   45449\n",
       "Bakery                22796\n",
       "Drinking Chocolate    11468\n",
       "Flavours               6790\n",
       "Coffee beans           1753\n",
       "Loose Tea              1210\n",
       "Branded                 747\n",
       "Packaged Chocolate      487\n",
       "Name: count, dtype: int64"
      ]
     },
     "execution_count": 31,
     "metadata": {},
     "output_type": "execute_result"
    }
   ],
   "source": [
    "df['product_category'].value_counts()"
   ]
  },
  {
   "cell_type": "code",
   "execution_count": 32,
   "id": "27f7d25c",
   "metadata": {
    "execution": {
     "iopub.execute_input": "2023-12-29T16:40:47.365258Z",
     "iopub.status.busy": "2023-12-29T16:40:47.364717Z",
     "iopub.status.idle": "2023-12-29T16:40:47.399347Z",
     "shell.execute_reply": "2023-12-29T16:40:47.397933Z"
    },
    "papermill": {
     "duration": 0.071746,
     "end_time": "2023-12-29T16:40:47.402328",
     "exception": false,
     "start_time": "2023-12-29T16:40:47.330582",
     "status": "completed"
    },
    "tags": []
   },
   "outputs": [
    {
     "data": {
      "text/plain": [
       "29"
      ]
     },
     "execution_count": 32,
     "metadata": {},
     "output_type": "execute_result"
    }
   ],
   "source": [
    "df['product_type'].value_counts().count()"
   ]
  },
  {
   "cell_type": "markdown",
   "id": "ed58547d",
   "metadata": {
    "papermill": {
     "duration": 0.032502,
     "end_time": "2023-12-29T16:40:47.467425",
     "exception": false,
     "start_time": "2023-12-29T16:40:47.434923",
     "status": "completed"
    },
    "tags": []
   },
   "source": [
    "**9 product categories, and 29 product types.**"
   ]
  },
  {
   "cell_type": "code",
   "execution_count": 33,
   "id": "8e2a973b",
   "metadata": {
    "execution": {
     "iopub.execute_input": "2023-12-29T16:40:47.535362Z",
     "iopub.status.busy": "2023-12-29T16:40:47.534814Z",
     "iopub.status.idle": "2023-12-29T16:40:47.544326Z",
     "shell.execute_reply": "2023-12-29T16:40:47.543171Z"
    },
    "papermill": {
     "duration": 0.048237,
     "end_time": "2023-12-29T16:40:47.547242",
     "exception": false,
     "start_time": "2023-12-29T16:40:47.499005",
     "status": "completed"
    },
    "tags": []
   },
   "outputs": [
    {
     "data": {
      "text/plain": [
       "214470"
      ]
     },
     "execution_count": 33,
     "metadata": {},
     "output_type": "execute_result"
    }
   ],
   "source": [
    "df['transaction_qty'].sum()"
   ]
  },
  {
   "cell_type": "code",
   "execution_count": 34,
   "id": "48695e7a",
   "metadata": {
    "execution": {
     "iopub.execute_input": "2023-12-29T16:40:47.613753Z",
     "iopub.status.busy": "2023-12-29T16:40:47.613244Z",
     "iopub.status.idle": "2023-12-29T16:40:47.621697Z",
     "shell.execute_reply": "2023-12-29T16:40:47.620626Z"
    },
    "papermill": {
     "duration": 0.045063,
     "end_time": "2023-12-29T16:40:47.624432",
     "exception": false,
     "start_time": "2023-12-29T16:40:47.579369",
     "status": "completed"
    },
    "tags": []
   },
   "outputs": [
    {
     "data": {
      "text/plain": [
       "70991"
      ]
     },
     "execution_count": 34,
     "metadata": {},
     "output_type": "execute_result"
    }
   ],
   "source": [
    "astoria_transactions['transaction_qty'].sum()"
   ]
  },
  {
   "cell_type": "code",
   "execution_count": 35,
   "id": "595e1593",
   "metadata": {
    "execution": {
     "iopub.execute_input": "2023-12-29T16:40:47.691244Z",
     "iopub.status.busy": "2023-12-29T16:40:47.690739Z",
     "iopub.status.idle": "2023-12-29T16:40:47.699827Z",
     "shell.execute_reply": "2023-12-29T16:40:47.698374Z"
    },
    "papermill": {
     "duration": 0.046847,
     "end_time": "2023-12-29T16:40:47.702943",
     "exception": false,
     "start_time": "2023-12-29T16:40:47.656096",
     "status": "completed"
    },
    "tags": []
   },
   "outputs": [
    {
     "data": {
      "text/plain": [
       "71742"
      ]
     },
     "execution_count": 35,
     "metadata": {},
     "output_type": "execute_result"
    }
   ],
   "source": [
    "manhattan_transactions['transaction_qty'].sum()"
   ]
  },
  {
   "cell_type": "code",
   "execution_count": 36,
   "id": "0d067320",
   "metadata": {
    "execution": {
     "iopub.execute_input": "2023-12-29T16:40:47.772971Z",
     "iopub.status.busy": "2023-12-29T16:40:47.772498Z",
     "iopub.status.idle": "2023-12-29T16:40:47.782339Z",
     "shell.execute_reply": "2023-12-29T16:40:47.780902Z"
    },
    "papermill": {
     "duration": 0.048695,
     "end_time": "2023-12-29T16:40:47.785312",
     "exception": false,
     "start_time": "2023-12-29T16:40:47.736617",
     "status": "completed"
    },
    "tags": []
   },
   "outputs": [
    {
     "data": {
      "text/plain": [
       "71737"
      ]
     },
     "execution_count": 36,
     "metadata": {},
     "output_type": "execute_result"
    }
   ],
   "source": [
    "hells_kitchen_transactions['transaction_qty'].sum()"
   ]
  },
  {
   "cell_type": "markdown",
   "id": "c2d2c101",
   "metadata": {
    "papermill": {
     "duration": 0.034709,
     "end_time": "2023-12-29T16:40:47.854798",
     "exception": false,
     "start_time": "2023-12-29T16:40:47.820089",
     "status": "completed"
    },
    "tags": []
   },
   "source": [
    "**Total of 214470 sold units.**\n",
    "\n",
    "**Astoria: 70991**\n",
    "\n",
    "**Lower Manhattan: 71742**\n",
    "\n",
    "**Hell's Kitchen: 71737**"
   ]
  },
  {
   "cell_type": "code",
   "execution_count": 37,
   "id": "2bbbc8db",
   "metadata": {
    "execution": {
     "iopub.execute_input": "2023-12-29T16:40:47.927426Z",
     "iopub.status.busy": "2023-12-29T16:40:47.926952Z",
     "iopub.status.idle": "2023-12-29T16:40:47.935499Z",
     "shell.execute_reply": "2023-12-29T16:40:47.934328Z"
    },
    "papermill": {
     "duration": 0.047854,
     "end_time": "2023-12-29T16:40:47.938693",
     "exception": false,
     "start_time": "2023-12-29T16:40:47.890839",
     "status": "completed"
    },
    "tags": []
   },
   "outputs": [],
   "source": [
    "df['Sales (USD)'] = df['transaction_qty'] * df['unit_price']"
   ]
  },
  {
   "cell_type": "code",
   "execution_count": 38,
   "id": "1d63ee50",
   "metadata": {
    "execution": {
     "iopub.execute_input": "2023-12-29T16:40:48.009090Z",
     "iopub.status.busy": "2023-12-29T16:40:48.008596Z",
     "iopub.status.idle": "2023-12-29T16:40:48.019308Z",
     "shell.execute_reply": "2023-12-29T16:40:48.017511Z"
    },
    "papermill": {
     "duration": 0.048661,
     "end_time": "2023-12-29T16:40:48.022182",
     "exception": false,
     "start_time": "2023-12-29T16:40:47.973521",
     "status": "completed"
    },
    "tags": []
   },
   "outputs": [
    {
     "data": {
      "text/plain": [
       "698812.33"
      ]
     },
     "execution_count": 38,
     "metadata": {},
     "output_type": "execute_result"
    }
   ],
   "source": [
    "df['Sales (USD)'].sum().round(2)"
   ]
  },
  {
   "cell_type": "code",
   "execution_count": 39,
   "id": "0e72e4cd",
   "metadata": {
    "execution": {
     "iopub.execute_input": "2023-12-29T16:40:48.093614Z",
     "iopub.status.busy": "2023-12-29T16:40:48.093128Z",
     "iopub.status.idle": "2023-12-29T16:40:48.137057Z",
     "shell.execute_reply": "2023-12-29T16:40:48.135538Z"
    },
    "papermill": {
     "duration": 0.082955,
     "end_time": "2023-12-29T16:40:48.140119",
     "exception": false,
     "start_time": "2023-12-29T16:40:48.057164",
     "status": "completed"
    },
    "tags": []
   },
   "outputs": [
    {
     "data": {
      "text/plain": [
       "232243.91"
      ]
     },
     "execution_count": 39,
     "metadata": {},
     "output_type": "execute_result"
    }
   ],
   "source": [
    "df[df['store_location'] == 'Astoria']['Sales (USD)'].sum().round(2)"
   ]
  },
  {
   "cell_type": "code",
   "execution_count": 40,
   "id": "2242b9cd",
   "metadata": {
    "execution": {
     "iopub.execute_input": "2023-12-29T16:40:48.211643Z",
     "iopub.status.busy": "2023-12-29T16:40:48.211171Z",
     "iopub.status.idle": "2023-12-29T16:40:48.255741Z",
     "shell.execute_reply": "2023-12-29T16:40:48.254449Z"
    },
    "papermill": {
     "duration": 0.083927,
     "end_time": "2023-12-29T16:40:48.258831",
     "exception": false,
     "start_time": "2023-12-29T16:40:48.174904",
     "status": "completed"
    },
    "tags": []
   },
   "outputs": [
    {
     "data": {
      "text/plain": [
       "230057.25"
      ]
     },
     "execution_count": 40,
     "metadata": {},
     "output_type": "execute_result"
    }
   ],
   "source": [
    "df[df['store_location'] == 'Lower Manhattan']['Sales (USD)'].sum()"
   ]
  },
  {
   "cell_type": "code",
   "execution_count": 41,
   "id": "fede57a7",
   "metadata": {
    "execution": {
     "iopub.execute_input": "2023-12-29T16:40:48.329757Z",
     "iopub.status.busy": "2023-12-29T16:40:48.329303Z",
     "iopub.status.idle": "2023-12-29T16:40:48.374817Z",
     "shell.execute_reply": "2023-12-29T16:40:48.373417Z"
    },
    "papermill": {
     "duration": 0.086251,
     "end_time": "2023-12-29T16:40:48.378207",
     "exception": false,
     "start_time": "2023-12-29T16:40:48.291956",
     "status": "completed"
    },
    "tags": []
   },
   "outputs": [
    {
     "data": {
      "text/plain": [
       "236511.17"
      ]
     },
     "execution_count": 41,
     "metadata": {},
     "output_type": "execute_result"
    }
   ],
   "source": [
    "df[df['store_location'] == \"Hell's Kitchen\"]['Sales (USD)'].sum().round(2)"
   ]
  },
  {
   "cell_type": "markdown",
   "id": "fa60111f",
   "metadata": {
    "papermill": {
     "duration": 0.03543,
     "end_time": "2023-12-29T16:40:48.448027",
     "exception": false,
     "start_time": "2023-12-29T16:40:48.412597",
     "status": "completed"
    },
    "tags": []
   },
   "source": [
    "**Total sales in USD: 698 812.33**\n",
    "\n",
    "**Astoria: 232 243.91**\n",
    "\n",
    "**Lower Manhattan: 230 057.25**\n",
    "\n",
    "**Hell's Kitchen: 236 511.17**"
   ]
  },
  {
   "cell_type": "code",
   "execution_count": 42,
   "id": "c813e5d3",
   "metadata": {
    "execution": {
     "iopub.execute_input": "2023-12-29T16:40:48.520203Z",
     "iopub.status.busy": "2023-12-29T16:40:48.519691Z",
     "iopub.status.idle": "2023-12-29T16:40:48.566268Z",
     "shell.execute_reply": "2023-12-29T16:40:48.564886Z"
    },
    "papermill": {
     "duration": 0.086612,
     "end_time": "2023-12-29T16:40:48.569424",
     "exception": false,
     "start_time": "2023-12-29T16:40:48.482812",
     "status": "completed"
    },
    "tags": []
   },
   "outputs": [
    {
     "data": {
      "text/plain": [
       "89250"
      ]
     },
     "execution_count": 42,
     "metadata": {},
     "output_type": "execute_result"
    }
   ],
   "source": [
    "df[df['product_category'] == 'Coffee']['transaction_qty'].sum()"
   ]
  },
  {
   "cell_type": "code",
   "execution_count": 43,
   "id": "f8449b69",
   "metadata": {
    "execution": {
     "iopub.execute_input": "2023-12-29T16:40:48.641537Z",
     "iopub.status.busy": "2023-12-29T16:40:48.640579Z",
     "iopub.status.idle": "2023-12-29T16:40:48.672554Z",
     "shell.execute_reply": "2023-12-29T16:40:48.671177Z"
    },
    "papermill": {
     "duration": 0.070055,
     "end_time": "2023-12-29T16:40:48.675532",
     "exception": false,
     "start_time": "2023-12-29T16:40:48.605477",
     "status": "completed"
    },
    "tags": []
   },
   "outputs": [
    {
     "data": {
      "text/plain": [
       "product_category\n",
       "Bakery                 82316.0\n",
       "Branded                13607.0\n",
       "Coffee                269952.0\n",
       "Coffee beans           40085.0\n",
       "Drinking Chocolate     72416.0\n",
       "Flavours                8409.0\n",
       "Loose Tea              11214.0\n",
       "Packaged Chocolate      4408.0\n",
       "Tea                   196406.0\n",
       "Name: Sales (USD), dtype: float64"
      ]
     },
     "execution_count": 43,
     "metadata": {},
     "output_type": "execute_result"
    }
   ],
   "source": [
    "category_sales = df.groupby('product_category')['Sales (USD)'].sum()\n",
    "category_sales.round()"
   ]
  },
  {
   "cell_type": "code",
   "execution_count": 44,
   "id": "adf95fb4",
   "metadata": {
    "execution": {
     "iopub.execute_input": "2023-12-29T16:40:48.746947Z",
     "iopub.status.busy": "2023-12-29T16:40:48.746159Z",
     "iopub.status.idle": "2023-12-29T16:40:48.980846Z",
     "shell.execute_reply": "2023-12-29T16:40:48.978667Z"
    },
    "papermill": {
     "duration": 0.278514,
     "end_time": "2023-12-29T16:40:48.987179",
     "exception": false,
     "start_time": "2023-12-29T16:40:48.708665",
     "status": "completed"
    },
    "tags": []
   },
   "outputs": [
    {
     "data": {
      "image/png": "[encoded data removed]",
      "text/plain": [
       "<Figure size 640x480 with 1 Axes>"
      ]
     },
     "metadata": {},
     "output_type": "display_data"
    }
   ],
   "source": [
    "plt.pie(category_sales, labels=category_sales.index)\n",
    "plt.title('Sales(USD) per product category')\n",
    "plt.show()"
   ]
  },
  {
   "cell_type": "markdown",
   "id": "8ae71008",
   "metadata": {
    "papermill": {
     "duration": 0.038143,
     "end_time": "2023-12-29T16:40:49.075409",
     "exception": false,
     "start_time": "2023-12-29T16:40:49.037266",
     "status": "completed"
    },
    "tags": []
   },
   "source": [
    "**Majority of sales come from categories Coffee and Tea. Bakery products and drinking chocolate are also noticable product categories.**"
   ]
  },
  {
   "cell_type": "code",
   "execution_count": 45,
   "id": "f8ef7a8f",
   "metadata": {
    "execution": {
     "iopub.execute_input": "2023-12-29T16:40:49.145541Z",
     "iopub.status.busy": "2023-12-29T16:40:49.145020Z",
     "iopub.status.idle": "2023-12-29T16:40:49.742224Z",
     "shell.execute_reply": "2023-12-29T16:40:49.740465Z"
    },
    "papermill": {
     "duration": 0.636241,
     "end_time": "2023-12-29T16:40:49.745574",
     "exception": false,
     "start_time": "2023-12-29T16:40:49.109333",
     "status": "completed"
    },
    "tags": []
   },
   "outputs": [
    {
     "data": {
      "image/png": "[encoded data removed]",
      "text/plain": [
       "<Figure size 640x480 with 1 Axes>"
      ]
     },
     "metadata": {},
     "output_type": "display_data"
    }
   ],
   "source": [
    "top_categories = df['product_category'].value_counts().nlargest(5).index\n",
    "df_top_categories = df[df['product_category'].isin(top_categories)]\n",
    "df_category_sales = df_top_categories.groupby(['transaction_time', 'product_category'])['Sales (USD)'].sum().reset_index()\n",
    "\n",
    "sns.lineplot(x='transaction_time', y='Sales (USD)', hue='product_category', data=df_category_sales)\n",
    "\n",
    "plt.title('Sales of Top 5 Product Categories Distributed by Opening Hours')\n",
    "plt.xlabel('Opening Hours')\n",
    "plt.ylabel('Total Sales (USD)')\n",
    "plt.legend(title='Product Category')\n",
    "plt.show()"
   ]
  },
  {
   "cell_type": "markdown",
   "id": "db92e6bc",
   "metadata": {
    "papermill": {
     "duration": 0.034804,
     "end_time": "2023-12-29T16:40:49.816128",
     "exception": false,
     "start_time": "2023-12-29T16:40:49.781324",
     "status": "completed"
    },
    "tags": []
   },
   "source": [
    "**All of the biggest product categories experience a sales spike at 10 o'clock and then gradually decrease. Sales remain steady between 12 and 17.**"
   ]
  },
  {
   "cell_type": "code",
   "execution_count": 46,
   "id": "79b332bd",
   "metadata": {
    "execution": {
     "iopub.execute_input": "2023-12-29T16:40:49.890603Z",
     "iopub.status.busy": "2023-12-29T16:40:49.890133Z",
     "iopub.status.idle": "2023-12-29T16:40:49.898320Z",
     "shell.execute_reply": "2023-12-29T16:40:49.896842Z"
    },
    "papermill": {
     "duration": 0.048692,
     "end_time": "2023-12-29T16:40:49.901428",
     "exception": false,
     "start_time": "2023-12-29T16:40:49.852736",
     "status": "completed"
    },
    "tags": []
   },
   "outputs": [],
   "source": [
    "df_astoria_transactions = astoria_transactions\n",
    "df_astoria_transactions['Sales (USD)'] = df_astoria_transactions['transaction_qty'] * df_astoria_transactions['unit_price']"
   ]
  },
  {
   "cell_type": "code",
   "execution_count": 47,
   "id": "e83238e8",
   "metadata": {
    "execution": {
     "iopub.execute_input": "2023-12-29T16:40:49.976521Z",
     "iopub.status.busy": "2023-12-29T16:40:49.976025Z",
     "iopub.status.idle": "2023-12-29T16:40:50.516820Z",
     "shell.execute_reply": "2023-12-29T16:40:50.515527Z"
    },
    "papermill": {
     "duration": 0.583239,
     "end_time": "2023-12-29T16:40:50.520570",
     "exception": false,
     "start_time": "2023-12-29T16:40:49.937331",
     "status": "completed"
    },
    "tags": []
   },
   "outputs": [
    {
     "data": {
      "image/png": "[encoded data removed]",
      "text/plain": [
       "<Figure size 640x480 with 1 Axes>"
      ]
     },
     "metadata": {},
     "output_type": "display_data"
    }
   ],
   "source": [
    "top_categories_astoria = df_astoria_transactions['product_category'].value_counts().nlargest(5).index\n",
    "df_top_categories_astoria = df_astoria_transactions[df_astoria_transactions['product_category'].isin(top_categories_astoria)]\n",
    "df_category_sales_astoria = df_top_categories_astoria.groupby(['transaction_time', 'product_category'])['Sales (USD)'].sum().reset_index()\n",
    "\n",
    "sns.lineplot(x='transaction_time', y='Sales (USD)', hue='product_category', data=df_category_sales_astoria)\n",
    "\n",
    "plt.title('Sales of Top 5 Product Categories Distributed by Opening Hours (Astoria)')\n",
    "plt.xlabel('Opening Hours')\n",
    "plt.ylabel('Total Sales (USD)')\n",
    "plt.legend(title='Product Category')\n",
    "plt.show()"
   ]
  },
  {
   "cell_type": "markdown",
   "id": "f339e5e8",
   "metadata": {
    "papermill": {
     "duration": 0.042737,
     "end_time": "2023-12-29T16:40:50.600556",
     "exception": false,
     "start_time": "2023-12-29T16:40:50.557819",
     "status": "completed"
    },
    "tags": []
   },
   "source": [
    "**Trends of the 5 biggest product categories in Astoria location are subtle. The peak times are noticable, but the ascending and descending of sales are not as significant. Drinking chocolate is the most stable product category throughout the day, if small product categories are not considered.**\n",
    "\n",
    "**The location is busy from the first hour to the last hour. By expanding opening hours at this location we could learn about potentially profitable hours, or viceversa. Drinking chocolate and Tea are trending positively in the last hour, so I think expanding hours would primarily focus to hour 20.**"
   ]
  },
  {
   "cell_type": "code",
   "execution_count": 48,
   "id": "b870a4a7",
   "metadata": {
    "execution": {
     "iopub.execute_input": "2023-12-29T16:40:50.691188Z",
     "iopub.status.busy": "2023-12-29T16:40:50.689648Z",
     "iopub.status.idle": "2023-12-29T16:40:50.698312Z",
     "shell.execute_reply": "2023-12-29T16:40:50.697175Z"
    },
    "papermill": {
     "duration": 0.05775,
     "end_time": "2023-12-29T16:40:50.701884",
     "exception": false,
     "start_time": "2023-12-29T16:40:50.644134",
     "status": "completed"
    },
    "tags": []
   },
   "outputs": [],
   "source": [
    "df_manhattan_transactions = manhattan_transactions\n",
    "df_manhattan_transactions['Sales (USD)'] = df_manhattan_transactions['transaction_qty'] * df_manhattan_transactions['unit_price']"
   ]
  },
  {
   "cell_type": "code",
   "execution_count": 49,
   "id": "d34a0513",
   "metadata": {
    "execution": {
     "iopub.execute_input": "2023-12-29T16:40:50.780906Z",
     "iopub.status.busy": "2023-12-29T16:40:50.780200Z",
     "iopub.status.idle": "2023-12-29T16:40:51.357327Z",
     "shell.execute_reply": "2023-12-29T16:40:51.355882Z"
    },
    "papermill": {
     "duration": 0.620753,
     "end_time": "2023-12-29T16:40:51.360740",
     "exception": false,
     "start_time": "2023-12-29T16:40:50.739987",
     "status": "completed"
    },
    "tags": []
   },
   "outputs": [
    {
     "data": {
      "image/png": "[encoded data removed]",
      "text/plain": [
       "<Figure size 640x480 with 1 Axes>"
      ]
     },
     "metadata": {},
     "output_type": "display_data"
    }
   ],
   "source": [
    "top_categories_manhattan = df_manhattan_transactions['product_category'].value_counts().nlargest(5).index\n",
    "df_top_categories_manhattan = df_manhattan_transactions[df_manhattan_transactions['product_category'].isin(top_categories_manhattan)]\n",
    "df_category_sales_manhattan = df_top_categories_manhattan.groupby(['transaction_time', 'product_category'])['Sales (USD)'].sum().reset_index()\n",
    "\n",
    "sns.lineplot(x='transaction_time', y='Sales (USD)', hue='product_category', data=df_category_sales_manhattan)\n",
    "\n",
    "plt.title('Sales of Top 5 Product Categories Distributed by Opening Hours (Lower Manhattan)')\n",
    "plt.xlabel('Opening Hours')\n",
    "plt.ylabel('Total Sales (USD)')\n",
    "plt.legend(title='Product Category')\n",
    "plt.show()"
   ]
  },
  {
   "cell_type": "markdown",
   "id": "c6942c64",
   "metadata": {
    "papermill": {
     "duration": 0.039676,
     "end_time": "2023-12-29T16:40:51.440060",
     "exception": false,
     "start_time": "2023-12-29T16:40:51.400384",
     "status": "completed"
    },
    "tags": []
   },
   "source": [
    "**The trends within the 5 most significant product categories at the Lower Manhattan location have more noticeable patterns. The hours until 10 are busy, but are followed by a significant descent until 11. The next couple of hours are quieter, but the location shows an ascending trend in sales from hours 13 until 15. The last three hours are quiet, with the last two hours close to non-existent.**\n",
    "\n",
    "**The location might attract a different group of customers before and after working hours. Depending on the location, it could succeed with additional products, such as lunch meals or similar.**\n",
    "\n",
    "**The last two hours should be inspected more closely. If the location is used as a distribution or production facility, this would explain why it is kept open.**"
   ]
  },
  {
   "cell_type": "code",
   "execution_count": 50,
   "id": "1d8a82b4",
   "metadata": {
    "execution": {
     "iopub.execute_input": "2023-12-29T16:40:51.520942Z",
     "iopub.status.busy": "2023-12-29T16:40:51.519821Z",
     "iopub.status.idle": "2023-12-29T16:40:51.528449Z",
     "shell.execute_reply": "2023-12-29T16:40:51.527308Z"
    },
    "papermill": {
     "duration": 0.052822,
     "end_time": "2023-12-29T16:40:51.531885",
     "exception": false,
     "start_time": "2023-12-29T16:40:51.479063",
     "status": "completed"
    },
    "tags": []
   },
   "outputs": [],
   "source": [
    "df_hells_kitchen_transactions = hells_kitchen_transactions\n",
    "df_hells_kitchen_transactions['Sales (USD)'] = df_hells_kitchen_transactions['transaction_qty'] * df_hells_kitchen_transactions['unit_price']"
   ]
  },
  {
   "cell_type": "code",
   "execution_count": 51,
   "id": "f06c7a51",
   "metadata": {
    "execution": {
     "iopub.execute_input": "2023-12-29T16:40:51.614408Z",
     "iopub.status.busy": "2023-12-29T16:40:51.613642Z",
     "iopub.status.idle": "2023-12-29T16:40:52.166587Z",
     "shell.execute_reply": "2023-12-29T16:40:52.165262Z"
    },
    "papermill": {
     "duration": 0.598117,
     "end_time": "2023-12-29T16:40:52.170019",
     "exception": false,
     "start_time": "2023-12-29T16:40:51.571902",
     "status": "completed"
    },
    "tags": []
   },
   "outputs": [
    {
     "data": {
      "image/png": "[encoded data removed]",
      "text/plain": [
       "<Figure size 640x480 with 1 Axes>"
      ]
     },
     "metadata": {},
     "output_type": "display_data"
    }
   ],
   "source": [
    "top_categories_hells_kitchen = df_hells_kitchen_transactions['product_category'].value_counts().nlargest(5).index\n",
    "df_top_categories_hells_kitchen = df_hells_kitchen_transactions[df_hells_kitchen_transactions['product_category'].isin(top_categories_hells_kitchen)]\n",
    "df_category_sales_hells_kitchen = df_top_categories_hells_kitchen.groupby(['transaction_time', 'product_category'])['Sales (USD)'].sum().reset_index()\n",
    "\n",
    "sns.lineplot(x='transaction_time', y='Sales (USD)', hue='product_category', data=df_category_sales_hells_kitchen)\n",
    "\n",
    "plt.title(\"Sales of Top 5 Product Categories Distributed by Opening Hours (Hell's Kitchen)\")\n",
    "plt.xlabel('Opening Hours')\n",
    "plt.ylabel('Total Sales (USD)')\n",
    "plt.legend(title='Product Category')\n",
    "plt.show()"
   ]
  },
  {
   "cell_type": "markdown",
   "id": "65882b3a",
   "metadata": {
    "papermill": {
     "duration": 0.040769,
     "end_time": "2023-12-29T16:40:52.252375",
     "exception": false,
     "start_time": "2023-12-29T16:40:52.211606",
     "status": "completed"
    },
    "tags": []
   },
   "source": [
    "**The location in Hell's Kitchen has a more intense peak time. Time between 06 and 07 are trending positively, but is not as intense as Lower Manhattan. After the peak hours the sales are stable until 19. The last hour is descending rapidly, and the closing time could be adjusted to 19.**"
   ]
  },
  {
   "cell_type": "code",
   "execution_count": 52,
   "id": "7b3c198b",
   "metadata": {
    "execution": {
     "iopub.execute_input": "2023-12-29T16:40:52.332415Z",
     "iopub.status.busy": "2023-12-29T16:40:52.331921Z",
     "iopub.status.idle": "2023-12-29T16:40:52.364724Z",
     "shell.execute_reply": "2023-12-29T16:40:52.363299Z"
    },
    "papermill": {
     "duration": 0.07688,
     "end_time": "2023-12-29T16:40:52.368019",
     "exception": false,
     "start_time": "2023-12-29T16:40:52.291139",
     "status": "completed"
    },
    "tags": []
   },
   "outputs": [],
   "source": [
    "df['Sales (USD)'] = pd.to_numeric(df['Sales (USD)'], errors='coerce')\n",
    "df['average_purchase_per_hour'] = df.groupby('transaction_time')['Sales (USD)'].transform('mean').round(2)\n"
   ]
  },
  {
   "cell_type": "code",
   "execution_count": 53,
   "id": "822b353c",
   "metadata": {
    "execution": {
     "iopub.execute_input": "2023-12-29T16:40:52.450119Z",
     "iopub.status.busy": "2023-12-29T16:40:52.449264Z",
     "iopub.status.idle": "2023-12-29T16:40:52.463081Z",
     "shell.execute_reply": "2023-12-29T16:40:52.461751Z"
    },
    "papermill": {
     "duration": 0.058175,
     "end_time": "2023-12-29T16:40:52.465837",
     "exception": false,
     "start_time": "2023-12-29T16:40:52.407662",
     "status": "completed"
    },
    "tags": []
   },
   "outputs": [
    {
     "data": {
      "text/plain": [
       "average_purchase_per_hour\n",
       "4.78    18545\n",
       "4.79    17764\n",
       "4.68    17654\n",
       "4.62    17641\n",
       "4.73    13428\n",
       "4.74     9766\n",
       "4.52     9093\n",
       "4.65     8979\n",
       "4.59     8745\n",
       "4.63     8714\n",
       "4.57     7498\n",
       "4.67     6092\n",
       "4.77     4594\n",
       "4.87      603\n",
       "Name: count, dtype: int64"
      ]
     },
     "execution_count": 53,
     "metadata": {},
     "output_type": "execute_result"
    }
   ],
   "source": [
    "df['average_purchase_per_hour'].value_counts()"
   ]
  },
  {
   "cell_type": "markdown",
   "id": "7b3c55cf",
   "metadata": {
    "papermill": {
     "duration": 0.039247,
     "end_time": "2023-12-29T16:40:52.543972",
     "exception": false,
     "start_time": "2023-12-29T16:40:52.504725",
     "status": "completed"
    },
    "tags": []
   },
   "source": [
    "**Average purchase per hour is very stable.**"
   ]
  },
  {
   "cell_type": "markdown",
   "id": "56b828ff",
   "metadata": {
    "papermill": {
     "duration": 0.039774,
     "end_time": "2023-12-29T16:40:52.624556",
     "exception": false,
     "start_time": "2023-12-29T16:40:52.584782",
     "status": "completed"
    },
    "tags": []
   },
   "source": [
    "**Lets check for correlations, and draw a heatmap.**"
   ]
  },
  {
   "cell_type": "code",
   "execution_count": 54,
   "id": "149d3dfd",
   "metadata": {
    "execution": {
     "iopub.execute_input": "2023-12-29T16:40:52.705708Z",
     "iopub.status.busy": "2023-12-29T16:40:52.705217Z",
     "iopub.status.idle": "2023-12-29T16:40:52.825705Z",
     "shell.execute_reply": "2023-12-29T16:40:52.824190Z"
    },
    "papermill": {
     "duration": 0.164974,
     "end_time": "2023-12-29T16:40:52.829390",
     "exception": false,
     "start_time": "2023-12-29T16:40:52.664416",
     "status": "completed"
    },
    "tags": []
   },
   "outputs": [
    {
     "data": {
      "text/html": [
       "<div>\n",
       "<style scoped>\n",
       "    .dataframe tbody tr th:only-of-type {\n",
       "        vertical-align: middle;\n",
       "    }\n",
       "\n",
       "    .dataframe tbody tr th {\n",
       "        vertical-align: top;\n",
       "    }\n",
       "\n",
       "    .dataframe thead th {\n",
       "        text-align: right;\n",
       "    }\n",
       "</style>\n",
       "<table border=\"1\" class=\"dataframe\">\n",
       "  <thead>\n",
       "    <tr style=\"text-align: right;\">\n",
       "      <th></th>\n",
       "      <th>transaction_time</th>\n",
       "      <th>transaction_qty</th>\n",
       "      <th>store_id</th>\n",
       "      <th>unit_price</th>\n",
       "      <th>Sales (USD)</th>\n",
       "      <th>average_purchase_per_hour</th>\n",
       "    </tr>\n",
       "  </thead>\n",
       "  <tbody>\n",
       "    <tr>\n",
       "      <th>transaction_time</th>\n",
       "      <td>1.000000</td>\n",
       "      <td>-0.006310</td>\n",
       "      <td>-0.075813</td>\n",
       "      <td>-0.018435</td>\n",
       "      <td>-0.013783</td>\n",
       "      <td>-0.698877</td>\n",
       "    </tr>\n",
       "    <tr>\n",
       "      <th>transaction_qty</th>\n",
       "      <td>-0.006310</td>\n",
       "      <td>1.000000</td>\n",
       "      <td>-0.000794</td>\n",
       "      <td>-0.123546</td>\n",
       "      <td>0.356231</td>\n",
       "      <td>0.003688</td>\n",
       "    </tr>\n",
       "    <tr>\n",
       "      <th>store_id</th>\n",
       "      <td>-0.075813</td>\n",
       "      <td>-0.000794</td>\n",
       "      <td>1.000000</td>\n",
       "      <td>0.001891</td>\n",
       "      <td>0.004595</td>\n",
       "      <td>0.094701</td>\n",
       "    </tr>\n",
       "    <tr>\n",
       "      <th>unit_price</th>\n",
       "      <td>-0.018435</td>\n",
       "      <td>-0.123546</td>\n",
       "      <td>0.001891</td>\n",
       "      <td>1.000000</td>\n",
       "      <td>0.685550</td>\n",
       "      <td>0.024569</td>\n",
       "    </tr>\n",
       "    <tr>\n",
       "      <th>Sales (USD)</th>\n",
       "      <td>-0.013783</td>\n",
       "      <td>0.356231</td>\n",
       "      <td>0.004595</td>\n",
       "      <td>0.685550</td>\n",
       "      <td>1.000000</td>\n",
       "      <td>0.019611</td>\n",
       "    </tr>\n",
       "    <tr>\n",
       "      <th>average_purchase_per_hour</th>\n",
       "      <td>-0.698877</td>\n",
       "      <td>0.003688</td>\n",
       "      <td>0.094701</td>\n",
       "      <td>0.024569</td>\n",
       "      <td>0.019611</td>\n",
       "      <td>1.000000</td>\n",
       "    </tr>\n",
       "  </tbody>\n",
       "</table>\n",
       "</div>"
      ],
      "text/plain": [
       "                           transaction_time  transaction_qty  store_id  \\\n",
       "transaction_time                   1.000000        -0.006310 -0.075813   \n",
       "transaction_qty                   -0.006310         1.000000 -0.000794   \n",
       "store_id                          -0.075813        -0.000794  1.000000   \n",
       "unit_price                        -0.018435        -0.123546  0.001891   \n",
       "Sales (USD)                       -0.013783         0.356231  0.004595   \n",
       "average_purchase_per_hour         -0.698877         0.003688  0.094701   \n",
       "\n",
       "                           unit_price  Sales (USD)  average_purchase_per_hour  \n",
       "transaction_time            -0.018435    -0.013783                  -0.698877  \n",
       "transaction_qty             -0.123546     0.356231                   0.003688  \n",
       "store_id                     0.001891     0.004595                   0.094701  \n",
       "unit_price                   1.000000     0.685550                   0.024569  \n",
       "Sales (USD)                  0.685550     1.000000                   0.019611  \n",
       "average_purchase_per_hour    0.024569     0.019611                   1.000000  "
      ]
     },
     "execution_count": 54,
     "metadata": {},
     "output_type": "execute_result"
    }
   ],
   "source": [
    "df_corr = df[['transaction_time','transaction_qty','store_id','unit_price','Sales (USD)','average_purchase_per_hour']].dropna().corr()\n",
    "df_corr"
   ]
  },
  {
   "cell_type": "code",
   "execution_count": 55,
   "id": "9bd37329",
   "metadata": {
    "execution": {
     "iopub.execute_input": "2023-12-29T16:40:52.915907Z",
     "iopub.status.busy": "2023-12-29T16:40:52.915372Z",
     "iopub.status.idle": "2023-12-29T16:40:53.428990Z",
     "shell.execute_reply": "2023-12-29T16:40:53.428034Z"
    },
    "papermill": {
     "duration": 0.560091,
     "end_time": "2023-12-29T16:40:53.431720",
     "exception": false,
     "start_time": "2023-12-29T16:40:52.871629",
     "status": "completed"
    },
    "tags": []
   },
   "outputs": [
    {
     "data": {
      "image/png": "[encoded data removed]",
      "text/plain": [
       "<Figure size 640x480 with 2 Axes>"
      ]
     },
     "metadata": {},
     "output_type": "display_data"
    }
   ],
   "source": [
    "sns.heatmap(df_corr, annot=True)\n",
    "plt.show()"
   ]
  },
  {
   "cell_type": "markdown",
   "id": "b0ba8c18",
   "metadata": {
    "papermill": {
     "duration": 0.040522,
     "end_time": "2023-12-29T16:40:53.512328",
     "exception": false,
     "start_time": "2023-12-29T16:40:53.471806",
     "status": "completed"
    },
    "tags": []
   },
   "source": [
    "**No significant correlations were found that would help understand the situation of the locations. Sales correlate with unit price, which is logical. In addition, sales correlate slightly with transaction quantity, which is also logical.**"
   ]
  },
  {
   "cell_type": "markdown",
   "id": "d0065be7",
   "metadata": {
    "papermill": {
     "duration": 0.04078,
     "end_time": "2023-12-29T16:40:53.594053",
     "exception": false,
     "start_time": "2023-12-29T16:40:53.553273",
     "status": "completed"
    },
    "tags": []
   },
   "source": [
    "**Drop final columns to make the sheet more presentable.**"
   ]
  },
  {
   "cell_type": "code",
   "execution_count": 56,
   "id": "17bb2f91",
   "metadata": {
    "execution": {
     "iopub.execute_input": "2023-12-29T16:40:53.680358Z",
     "iopub.status.busy": "2023-12-29T16:40:53.679557Z",
     "iopub.status.idle": "2023-12-29T16:40:53.699629Z",
     "shell.execute_reply": "2023-12-29T16:40:53.698540Z"
    },
    "papermill": {
     "duration": 0.065785,
     "end_time": "2023-12-29T16:40:53.702701",
     "exception": false,
     "start_time": "2023-12-29T16:40:53.636916",
     "status": "completed"
    },
    "tags": []
   },
   "outputs": [],
   "source": [
    "df.drop(['store_id'], axis=1, inplace=True)"
   ]
  },
  {
   "cell_type": "code",
   "execution_count": 57,
   "id": "707d9119",
   "metadata": {
    "execution": {
     "iopub.execute_input": "2023-12-29T16:40:53.789957Z",
     "iopub.status.busy": "2023-12-29T16:40:53.789452Z",
     "iopub.status.idle": "2023-12-29T16:40:53.817739Z",
     "shell.execute_reply": "2023-12-29T16:40:53.816414Z"
    },
    "papermill": {
     "duration": 0.076323,
     "end_time": "2023-12-29T16:40:53.820797",
     "exception": false,
     "start_time": "2023-12-29T16:40:53.744474",
     "status": "completed"
    },
    "tags": []
   },
   "outputs": [
    {
     "data": {
      "text/html": [
       "<div>\n",
       "<style scoped>\n",
       "    .dataframe tbody tr th:only-of-type {\n",
       "        vertical-align: middle;\n",
       "    }\n",
       "\n",
       "    .dataframe tbody tr th {\n",
       "        vertical-align: top;\n",
       "    }\n",
       "\n",
       "    .dataframe thead th {\n",
       "        text-align: right;\n",
       "    }\n",
       "</style>\n",
       "<table border=\"1\" class=\"dataframe\">\n",
       "  <thead>\n",
       "    <tr style=\"text-align: right;\">\n",
       "      <th></th>\n",
       "      <th>transaction_time</th>\n",
       "      <th>transaction_qty</th>\n",
       "      <th>store_location</th>\n",
       "      <th>unit_price</th>\n",
       "      <th>product_category</th>\n",
       "      <th>product_type</th>\n",
       "      <th>Sales (USD)</th>\n",
       "      <th>average_purchase_per_hour</th>\n",
       "    </tr>\n",
       "  </thead>\n",
       "  <tbody>\n",
       "    <tr>\n",
       "      <th>0</th>\n",
       "      <td>07</td>\n",
       "      <td>2</td>\n",
       "      <td>Lower Manhattan</td>\n",
       "      <td>3.00</td>\n",
       "      <td>Coffee</td>\n",
       "      <td>Gourmet brewed coffee</td>\n",
       "      <td>6.00</td>\n",
       "      <td>4.73</td>\n",
       "    </tr>\n",
       "    <tr>\n",
       "      <th>1</th>\n",
       "      <td>07</td>\n",
       "      <td>2</td>\n",
       "      <td>Lower Manhattan</td>\n",
       "      <td>3.10</td>\n",
       "      <td>Tea</td>\n",
       "      <td>Brewed Chai tea</td>\n",
       "      <td>6.20</td>\n",
       "      <td>4.73</td>\n",
       "    </tr>\n",
       "    <tr>\n",
       "      <th>2</th>\n",
       "      <td>07</td>\n",
       "      <td>2</td>\n",
       "      <td>Lower Manhattan</td>\n",
       "      <td>4.50</td>\n",
       "      <td>Drinking Chocolate</td>\n",
       "      <td>Hot chocolate</td>\n",
       "      <td>9.00</td>\n",
       "      <td>4.73</td>\n",
       "    </tr>\n",
       "    <tr>\n",
       "      <th>3</th>\n",
       "      <td>07</td>\n",
       "      <td>1</td>\n",
       "      <td>Lower Manhattan</td>\n",
       "      <td>2.00</td>\n",
       "      <td>Coffee</td>\n",
       "      <td>Drip coffee</td>\n",
       "      <td>2.00</td>\n",
       "      <td>4.73</td>\n",
       "    </tr>\n",
       "    <tr>\n",
       "      <th>4</th>\n",
       "      <td>07</td>\n",
       "      <td>2</td>\n",
       "      <td>Lower Manhattan</td>\n",
       "      <td>3.10</td>\n",
       "      <td>Tea</td>\n",
       "      <td>Brewed Chai tea</td>\n",
       "      <td>6.20</td>\n",
       "      <td>4.73</td>\n",
       "    </tr>\n",
       "    <tr>\n",
       "      <th>...</th>\n",
       "      <td>...</td>\n",
       "      <td>...</td>\n",
       "      <td>...</td>\n",
       "      <td>...</td>\n",
       "      <td>...</td>\n",
       "      <td>...</td>\n",
       "      <td>...</td>\n",
       "      <td>...</td>\n",
       "    </tr>\n",
       "    <tr>\n",
       "      <th>149111</th>\n",
       "      <td>20</td>\n",
       "      <td>2</td>\n",
       "      <td>Hell's Kitchen</td>\n",
       "      <td>2.50</td>\n",
       "      <td>Tea</td>\n",
       "      <td>Brewed herbal tea</td>\n",
       "      <td>5.00</td>\n",
       "      <td>4.87</td>\n",
       "    </tr>\n",
       "    <tr>\n",
       "      <th>149112</th>\n",
       "      <td>20</td>\n",
       "      <td>2</td>\n",
       "      <td>Hell's Kitchen</td>\n",
       "      <td>3.00</td>\n",
       "      <td>Tea</td>\n",
       "      <td>Brewed Black tea</td>\n",
       "      <td>6.00</td>\n",
       "      <td>4.87</td>\n",
       "    </tr>\n",
       "    <tr>\n",
       "      <th>149113</th>\n",
       "      <td>20</td>\n",
       "      <td>1</td>\n",
       "      <td>Hell's Kitchen</td>\n",
       "      <td>3.00</td>\n",
       "      <td>Tea</td>\n",
       "      <td>Brewed herbal tea</td>\n",
       "      <td>3.00</td>\n",
       "      <td>4.87</td>\n",
       "    </tr>\n",
       "    <tr>\n",
       "      <th>149114</th>\n",
       "      <td>20</td>\n",
       "      <td>1</td>\n",
       "      <td>Hell's Kitchen</td>\n",
       "      <td>3.75</td>\n",
       "      <td>Coffee</td>\n",
       "      <td>Barista Espresso</td>\n",
       "      <td>3.75</td>\n",
       "      <td>4.87</td>\n",
       "    </tr>\n",
       "    <tr>\n",
       "      <th>149115</th>\n",
       "      <td>20</td>\n",
       "      <td>2</td>\n",
       "      <td>Hell's Kitchen</td>\n",
       "      <td>0.80</td>\n",
       "      <td>Flavours</td>\n",
       "      <td>Regular syrup</td>\n",
       "      <td>1.60</td>\n",
       "      <td>4.87</td>\n",
       "    </tr>\n",
       "  </tbody>\n",
       "</table>\n",
       "<p>149116 rows × 8 columns</p>\n",
       "</div>"
      ],
      "text/plain": [
       "       transaction_time  transaction_qty   store_location  unit_price  \\\n",
       "0                    07                2  Lower Manhattan        3.00   \n",
       "1                    07                2  Lower Manhattan        3.10   \n",
       "2                    07                2  Lower Manhattan        4.50   \n",
       "3                    07                1  Lower Manhattan        2.00   \n",
       "4                    07                2  Lower Manhattan        3.10   \n",
       "...                 ...              ...              ...         ...   \n",
       "149111               20                2   Hell's Kitchen        2.50   \n",
       "149112               20                2   Hell's Kitchen        3.00   \n",
       "149113               20                1   Hell's Kitchen        3.00   \n",
       "149114               20                1   Hell's Kitchen        3.75   \n",
       "149115               20                2   Hell's Kitchen        0.80   \n",
       "\n",
       "          product_category           product_type  Sales (USD)  \\\n",
       "0                   Coffee  Gourmet brewed coffee         6.00   \n",
       "1                      Tea        Brewed Chai tea         6.20   \n",
       "2       Drinking Chocolate          Hot chocolate         9.00   \n",
       "3                   Coffee            Drip coffee         2.00   \n",
       "4                      Tea        Brewed Chai tea         6.20   \n",
       "...                    ...                    ...          ...   \n",
       "149111                 Tea      Brewed herbal tea         5.00   \n",
       "149112                 Tea       Brewed Black tea         6.00   \n",
       "149113                 Tea      Brewed herbal tea         3.00   \n",
       "149114              Coffee       Barista Espresso         3.75   \n",
       "149115            Flavours          Regular syrup         1.60   \n",
       "\n",
       "        average_purchase_per_hour  \n",
       "0                            4.73  \n",
       "1                            4.73  \n",
       "2                            4.73  \n",
       "3                            4.73  \n",
       "4                            4.73  \n",
       "...                           ...  \n",
       "149111                       4.87  \n",
       "149112                       4.87  \n",
       "149113                       4.87  \n",
       "149114                       4.87  \n",
       "149115                       4.87  \n",
       "\n",
       "[149116 rows x 8 columns]"
      ]
     },
     "execution_count": 57,
     "metadata": {},
     "output_type": "execute_result"
    }
   ],
   "source": [
    "df"
   ]
  },
  {
   "cell_type": "markdown",
   "id": "463b590e",
   "metadata": {
    "papermill": {
     "duration": 0.04079,
     "end_time": "2023-12-29T16:40:53.904278",
     "exception": false,
     "start_time": "2023-12-29T16:40:53.863488",
     "status": "completed"
    },
    "tags": []
   },
   "source": [
    "**Lets change the names of the columns, so they are easy to read.**"
   ]
  },
  {
   "cell_type": "code",
   "execution_count": 58,
   "id": "352029de",
   "metadata": {
    "execution": {
     "iopub.execute_input": "2023-12-29T16:40:53.993712Z",
     "iopub.status.busy": "2023-12-29T16:40:53.993195Z",
     "iopub.status.idle": "2023-12-29T16:40:54.002387Z",
     "shell.execute_reply": "2023-12-29T16:40:54.000372Z"
    },
    "papermill": {
     "duration": 0.057228,
     "end_time": "2023-12-29T16:40:54.005244",
     "exception": false,
     "start_time": "2023-12-29T16:40:53.948016",
     "status": "completed"
    },
    "tags": []
   },
   "outputs": [
    {
     "data": {
      "text/plain": [
       "Index(['transaction_time', 'transaction_qty', 'store_location', 'unit_price',\n",
       "       'product_category', 'product_type', 'Sales (USD)',\n",
       "       'average_purchase_per_hour'],\n",
       "      dtype='object')"
      ]
     },
     "execution_count": 58,
     "metadata": {},
     "output_type": "execute_result"
    }
   ],
   "source": [
    "df.columns"
   ]
  },
  {
   "cell_type": "code",
   "execution_count": 59,
   "id": "60d27ae9",
   "metadata": {
    "execution": {
     "iopub.execute_input": "2023-12-29T16:40:54.098739Z",
     "iopub.status.busy": "2023-12-29T16:40:54.098232Z",
     "iopub.status.idle": "2023-12-29T16:40:54.124746Z",
     "shell.execute_reply": "2023-12-29T16:40:54.123557Z"
    },
    "papermill": {
     "duration": 0.079774,
     "end_time": "2023-12-29T16:40:54.128172",
     "exception": false,
     "start_time": "2023-12-29T16:40:54.048398",
     "status": "completed"
    },
    "tags": []
   },
   "outputs": [],
   "source": [
    "df = df.rename(columns={'transaction_time':'Transaction Hour',\n",
    "                   'transaction_qty':'Amount of Products',\n",
    "                   'store_location':'Store Location',\n",
    "                   'unit_price':'Unit Price',\n",
    "                   'product_category':'Product Category',\n",
    "                   'product_type':'Product Type',\n",
    "                   'average_purchase_per_hour':'Average Purchase per Hour (USD)'})"
   ]
  },
  {
   "cell_type": "code",
   "execution_count": 60,
   "id": "90e8e5e2",
   "metadata": {
    "execution": {
     "iopub.execute_input": "2023-12-29T16:40:54.218272Z",
     "iopub.status.busy": "2023-12-29T16:40:54.217728Z",
     "iopub.status.idle": "2023-12-29T16:40:54.243650Z",
     "shell.execute_reply": "2023-12-29T16:40:54.242573Z"
    },
    "papermill": {
     "duration": 0.073801,
     "end_time": "2023-12-29T16:40:54.246038",
     "exception": false,
     "start_time": "2023-12-29T16:40:54.172237",
     "status": "completed"
    },
    "tags": []
   },
   "outputs": [
    {
     "data": {
      "text/html": [
       "<div>\n",
       "<style scoped>\n",
       "    .dataframe tbody tr th:only-of-type {\n",
       "        vertical-align: middle;\n",
       "    }\n",
       "\n",
       "    .dataframe tbody tr th {\n",
       "        vertical-align: top;\n",
       "    }\n",
       "\n",
       "    .dataframe thead th {\n",
       "        text-align: right;\n",
       "    }\n",
       "</style>\n",
       "<table border=\"1\" class=\"dataframe\">\n",
       "  <thead>\n",
       "    <tr style=\"text-align: right;\">\n",
       "      <th></th>\n",
       "      <th>Transaction Hour</th>\n",
       "      <th>Amount of Products</th>\n",
       "      <th>Store Location</th>\n",
       "      <th>Unit Price</th>\n",
       "      <th>Product Category</th>\n",
       "      <th>Product Type</th>\n",
       "      <th>Sales (USD)</th>\n",
       "      <th>Average Purchase per Hour (USD)</th>\n",
       "    </tr>\n",
       "  </thead>\n",
       "  <tbody>\n",
       "    <tr>\n",
       "      <th>0</th>\n",
       "      <td>07</td>\n",
       "      <td>2</td>\n",
       "      <td>Lower Manhattan</td>\n",
       "      <td>3.00</td>\n",
       "      <td>Coffee</td>\n",
       "      <td>Gourmet brewed coffee</td>\n",
       "      <td>6.00</td>\n",
       "      <td>4.73</td>\n",
       "    </tr>\n",
       "    <tr>\n",
       "      <th>1</th>\n",
       "      <td>07</td>\n",
       "      <td>2</td>\n",
       "      <td>Lower Manhattan</td>\n",
       "      <td>3.10</td>\n",
       "      <td>Tea</td>\n",
       "      <td>Brewed Chai tea</td>\n",
       "      <td>6.20</td>\n",
       "      <td>4.73</td>\n",
       "    </tr>\n",
       "    <tr>\n",
       "      <th>2</th>\n",
       "      <td>07</td>\n",
       "      <td>2</td>\n",
       "      <td>Lower Manhattan</td>\n",
       "      <td>4.50</td>\n",
       "      <td>Drinking Chocolate</td>\n",
       "      <td>Hot chocolate</td>\n",
       "      <td>9.00</td>\n",
       "      <td>4.73</td>\n",
       "    </tr>\n",
       "    <tr>\n",
       "      <th>3</th>\n",
       "      <td>07</td>\n",
       "      <td>1</td>\n",
       "      <td>Lower Manhattan</td>\n",
       "      <td>2.00</td>\n",
       "      <td>Coffee</td>\n",
       "      <td>Drip coffee</td>\n",
       "      <td>2.00</td>\n",
       "      <td>4.73</td>\n",
       "    </tr>\n",
       "    <tr>\n",
       "      <th>4</th>\n",
       "      <td>07</td>\n",
       "      <td>2</td>\n",
       "      <td>Lower Manhattan</td>\n",
       "      <td>3.10</td>\n",
       "      <td>Tea</td>\n",
       "      <td>Brewed Chai tea</td>\n",
       "      <td>6.20</td>\n",
       "      <td>4.73</td>\n",
       "    </tr>\n",
       "    <tr>\n",
       "      <th>...</th>\n",
       "      <td>...</td>\n",
       "      <td>...</td>\n",
       "      <td>...</td>\n",
       "      <td>...</td>\n",
       "      <td>...</td>\n",
       "      <td>...</td>\n",
       "      <td>...</td>\n",
       "      <td>...</td>\n",
       "    </tr>\n",
       "    <tr>\n",
       "      <th>149111</th>\n",
       "      <td>20</td>\n",
       "      <td>2</td>\n",
       "      <td>Hell's Kitchen</td>\n",
       "      <td>2.50</td>\n",
       "      <td>Tea</td>\n",
       "      <td>Brewed herbal tea</td>\n",
       "      <td>5.00</td>\n",
       "      <td>4.87</td>\n",
       "    </tr>\n",
       "    <tr>\n",
       "      <th>149112</th>\n",
       "      <td>20</td>\n",
       "      <td>2</td>\n",
       "      <td>Hell's Kitchen</td>\n",
       "      <td>3.00</td>\n",
       "      <td>Tea</td>\n",
       "      <td>Brewed Black tea</td>\n",
       "      <td>6.00</td>\n",
       "      <td>4.87</td>\n",
       "    </tr>\n",
       "    <tr>\n",
       "      <th>149113</th>\n",
       "      <td>20</td>\n",
       "      <td>1</td>\n",
       "      <td>Hell's Kitchen</td>\n",
       "      <td>3.00</td>\n",
       "      <td>Tea</td>\n",
       "      <td>Brewed herbal tea</td>\n",
       "      <td>3.00</td>\n",
       "      <td>4.87</td>\n",
       "    </tr>\n",
       "    <tr>\n",
       "      <th>149114</th>\n",
       "      <td>20</td>\n",
       "      <td>1</td>\n",
       "      <td>Hell's Kitchen</td>\n",
       "      <td>3.75</td>\n",
       "      <td>Coffee</td>\n",
       "      <td>Barista Espresso</td>\n",
       "      <td>3.75</td>\n",
       "      <td>4.87</td>\n",
       "    </tr>\n",
       "    <tr>\n",
       "      <th>149115</th>\n",
       "      <td>20</td>\n",
       "      <td>2</td>\n",
       "      <td>Hell's Kitchen</td>\n",
       "      <td>0.80</td>\n",
       "      <td>Flavours</td>\n",
       "      <td>Regular syrup</td>\n",
       "      <td>1.60</td>\n",
       "      <td>4.87</td>\n",
       "    </tr>\n",
       "  </tbody>\n",
       "</table>\n",
       "<p>149116 rows × 8 columns</p>\n",
       "</div>"
      ],
      "text/plain": [
       "       Transaction Hour  Amount of Products   Store Location  Unit Price  \\\n",
       "0                    07                   2  Lower Manhattan        3.00   \n",
       "1                    07                   2  Lower Manhattan        3.10   \n",
       "2                    07                   2  Lower Manhattan        4.50   \n",
       "3                    07                   1  Lower Manhattan        2.00   \n",
       "4                    07                   2  Lower Manhattan        3.10   \n",
       "...                 ...                 ...              ...         ...   \n",
       "149111               20                   2   Hell's Kitchen        2.50   \n",
       "149112               20                   2   Hell's Kitchen        3.00   \n",
       "149113               20                   1   Hell's Kitchen        3.00   \n",
       "149114               20                   1   Hell's Kitchen        3.75   \n",
       "149115               20                   2   Hell's Kitchen        0.80   \n",
       "\n",
       "          Product Category           Product Type  Sales (USD)  \\\n",
       "0                   Coffee  Gourmet brewed coffee         6.00   \n",
       "1                      Tea        Brewed Chai tea         6.20   \n",
       "2       Drinking Chocolate          Hot chocolate         9.00   \n",
       "3                   Coffee            Drip coffee         2.00   \n",
       "4                      Tea        Brewed Chai tea         6.20   \n",
       "...                    ...                    ...          ...   \n",
       "149111                 Tea      Brewed herbal tea         5.00   \n",
       "149112                 Tea       Brewed Black tea         6.00   \n",
       "149113                 Tea      Brewed herbal tea         3.00   \n",
       "149114              Coffee       Barista Espresso         3.75   \n",
       "149115            Flavours          Regular syrup         1.60   \n",
       "\n",
       "        Average Purchase per Hour (USD)  \n",
       "0                                  4.73  \n",
       "1                                  4.73  \n",
       "2                                  4.73  \n",
       "3                                  4.73  \n",
       "4                                  4.73  \n",
       "...                                 ...  \n",
       "149111                             4.87  \n",
       "149112                             4.87  \n",
       "149113                             4.87  \n",
       "149114                             4.87  \n",
       "149115                             4.87  \n",
       "\n",
       "[149116 rows x 8 columns]"
      ]
     },
     "execution_count": 60,
     "metadata": {},
     "output_type": "execute_result"
    }
   ],
   "source": [
    "df"
   ]
  }
 ],
 "metadata": {
  "kaggle": {
   "accelerator": "none",
   "dataSources": [
    {
     "datasetId": 4074650,
     "sourceId": 7074564,
     "sourceType": "datasetVersion"
    }
   ],
   "dockerImageVersionId": 30626,
   "isGpuEnabled": false,
   "isInternetEnabled": false,
   "language": "python",
   "sourceType": "notebook"
  },
  "kernelspec": {
   "display_name": "Python 3",
   "language": "python",
   "name": "python3"
  },
  "language_info": {
   "codemirror_mode": {
    "name": "ipython",
    "version": 3
   },
   "file_extension": ".py",
   "mimetype": "text/x-python",
   "name": "python",
   "nbconvert_exporter": "python",
   "pygments_lexer": "ipython3",
   "version": "3.10.12"
  },
  "papermill": {
   "default_parameters": {},
   "duration": 20.50552,
   "end_time": "2023-12-29T16:40:55.321048",
   "environment_variables": {},
   "exception": null,
   "input_path": "__notebook__.ipynb",
   "output_path": "__notebook__.ipynb",
   "parameters": {},
   "start_time": "2023-12-29T16:40:34.815528",
   "version": "2.4.0"
  }
 },
 "nbformat": 4,
 "nbformat_minor": 5
}
